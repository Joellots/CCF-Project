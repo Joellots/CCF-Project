{
 "cells": [
  {
   "cell_type": "code",
   "execution_count": 36,
   "metadata": {
    "id": "LgKtqX3TeD5e"
   },
   "outputs": [
    {
     "name": "stdout",
     "output_type": "stream",
     "text": [
      "Data source import complete.\n"
     ]
    }
   ],
   "source": [
    "# IMPORTANT: RUN THIS CELL IN ORDER TO IMPORT YOUR KAGGLE DATA SOURCES,\n",
    "# THEN FEEL FREE TO DELETE THIS CELL.\n",
    "# NOTE: THIS NOTEBOOK ENVIRONMENT DIFFERS FROM KAGGLE'S PYTHON\n",
    "# ENVIRONMENT SO THERE MAY BE MISSING LIBRARIES USED BY YOUR\n",
    "# NOTEBOOK.\n",
    "import kagglehub\n",
    "luccagodoy_obfuscated_malware_memory_2022_cic_path = kagglehub.dataset_download('luccagodoy/obfuscated-malware-memory-2022-cic')\n",
    "\n",
    "print('Data source import complete.')\n"
   ]
  },
  {
   "cell_type": "markdown",
   "metadata": {
    "id": "YoK6jr-NeD5f"
   },
   "source": [
    "# Make Sure to cite our work :D"
   ]
  },
  {
   "cell_type": "code",
   "execution_count": 37,
   "metadata": {
    "id": "dXYobmLXeD5g"
   },
   "outputs": [],
   "source": [
    "# @inproceedings{10.1145/3644713.3644768,\n",
    "# author = {Abid, Mohammed Nadhir and Beggas, Mounir and Laouid, Abdelkader},\n",
    "# title = {Machine/Deep Learning for obfuscated malware Detection},\n",
    "# year = {2024},\n",
    "# isbn = {9798400709036},\n",
    "# publisher = {Association for Computing Machinery},\n",
    "# address = {New York, NY, USA},\n",
    "# url = {https://doi.org/10.1145/3644713.3644768},\n",
    "# doi = {10.1145/3644713.3644768},\n",
    "# booktitle = {Proceedings of the 7th International Conference on Future Networks and Distributed Systems},\n",
    "# pages = {390–396},\n",
    "# numpages = {7},\n",
    "# keywords = {Machine Learning, classification, cybersecurity, data imbalance, deep learning, malware},\n",
    "# location = {Dubai, United Arab Emirates},\n",
    "# series = {ICFNDS '23}\n",
    "# }"
   ]
  },
  {
   "cell_type": "markdown",
   "metadata": {
    "id": "xOcjbYR8WM1D"
   },
   "source": [
    "# Data Preproccessing"
   ]
  },
  {
   "cell_type": "markdown",
   "metadata": {
    "id": "yIeR9c_4zA4F"
   },
   "source": [
    "## Data Loading"
   ]
  },
  {
   "cell_type": "code",
   "execution_count": 38,
   "metadata": {
    "id": "WZoja-_lWS8F"
   },
   "outputs": [],
   "source": [
    "\n",
    "import numpy as np # linear algebra\n",
    "import pandas as pd # data processing, CSV file I/O (e.g. pd.read_csv)\n"
   ]
  },
  {
   "cell_type": "code",
   "execution_count": 39,
   "metadata": {
    "colab": {
     "base_uri": "https://localhost:8080/"
    },
    "id": "ag-Q-UP9WYCm",
    "outputId": "381eb7d6-2fee-4c96-d2c8-a9b45e0a04fc"
   },
   "outputs": [
    {
     "data": {
      "text/plain": [
       "(58596, 57)"
      ]
     },
     "execution_count": 39,
     "metadata": {},
     "output_type": "execute_result"
    }
   ],
   "source": [
    "original_df = pd.read_csv('Obfuscated-MalMem2022.csv', sep=',', encoding='utf-8')\n",
    "original_df.shape"
   ]
  },
  {
   "cell_type": "code",
   "execution_count": 40,
   "metadata": {
    "colab": {
     "base_uri": "https://localhost:8080/",
     "height": 349
    },
    "id": "JZVNcKI4kaJO",
    "outputId": "aa5cc17e-9256-4468-da0f-ca40e215302a"
   },
   "outputs": [
    {
     "data": {
      "text/html": [
       "<div>\n",
       "<style scoped>\n",
       "    .dataframe tbody tr th:only-of-type {\n",
       "        vertical-align: middle;\n",
       "    }\n",
       "\n",
       "    .dataframe tbody tr th {\n",
       "        vertical-align: top;\n",
       "    }\n",
       "\n",
       "    .dataframe thead th {\n",
       "        text-align: right;\n",
       "    }\n",
       "</style>\n",
       "<table border=\"1\" class=\"dataframe\">\n",
       "  <thead>\n",
       "    <tr style=\"text-align: right;\">\n",
       "      <th></th>\n",
       "      <th>pslist.nproc</th>\n",
       "      <th>pslist.nppid</th>\n",
       "      <th>pslist.avg_threads</th>\n",
       "      <th>pslist.nprocs64bit</th>\n",
       "      <th>pslist.avg_handlers</th>\n",
       "      <th>dlllist.ndlls</th>\n",
       "      <th>dlllist.avg_dlls_per_proc</th>\n",
       "      <th>handles.nhandles</th>\n",
       "      <th>handles.avg_handles_per_proc</th>\n",
       "      <th>handles.nport</th>\n",
       "      <th>...</th>\n",
       "      <th>svcscan.nservices</th>\n",
       "      <th>svcscan.kernel_drivers</th>\n",
       "      <th>svcscan.fs_drivers</th>\n",
       "      <th>svcscan.process_services</th>\n",
       "      <th>svcscan.shared_process_services</th>\n",
       "      <th>svcscan.interactive_process_services</th>\n",
       "      <th>svcscan.nactive</th>\n",
       "      <th>callbacks.ncallbacks</th>\n",
       "      <th>callbacks.nanonymous</th>\n",
       "      <th>callbacks.ngeneric</th>\n",
       "    </tr>\n",
       "  </thead>\n",
       "  <tbody>\n",
       "    <tr>\n",
       "      <th>count</th>\n",
       "      <td>58596.000000</td>\n",
       "      <td>58596.000000</td>\n",
       "      <td>58596.000000</td>\n",
       "      <td>58596.0</td>\n",
       "      <td>58596.000000</td>\n",
       "      <td>58596.000000</td>\n",
       "      <td>58596.000000</td>\n",
       "      <td>5.859600e+04</td>\n",
       "      <td>58596.000000</td>\n",
       "      <td>58596.0</td>\n",
       "      <td>...</td>\n",
       "      <td>58596.000000</td>\n",
       "      <td>58596.000000</td>\n",
       "      <td>58596.000000</td>\n",
       "      <td>58596.000000</td>\n",
       "      <td>58596.000000</td>\n",
       "      <td>58596.0</td>\n",
       "      <td>58596.000000</td>\n",
       "      <td>58596.000000</td>\n",
       "      <td>58596.000000</td>\n",
       "      <td>58596.000000</td>\n",
       "    </tr>\n",
       "    <tr>\n",
       "      <th>mean</th>\n",
       "      <td>41.394771</td>\n",
       "      <td>14.713837</td>\n",
       "      <td>11.341655</td>\n",
       "      <td>0.0</td>\n",
       "      <td>247.509819</td>\n",
       "      <td>1810.805447</td>\n",
       "      <td>43.707806</td>\n",
       "      <td>1.025858e+04</td>\n",
       "      <td>249.560958</td>\n",
       "      <td>0.0</td>\n",
       "      <td>...</td>\n",
       "      <td>417.183374</td>\n",
       "      <td>221.406581</td>\n",
       "      <td>25.996245</td>\n",
       "      <td>26.878388</td>\n",
       "      <td>116.879514</td>\n",
       "      <td>0.0</td>\n",
       "      <td>121.995546</td>\n",
       "      <td>86.905659</td>\n",
       "      <td>0.000853</td>\n",
       "      <td>7.999881</td>\n",
       "    </tr>\n",
       "    <tr>\n",
       "      <th>std</th>\n",
       "      <td>5.777249</td>\n",
       "      <td>2.656748</td>\n",
       "      <td>1.588231</td>\n",
       "      <td>0.0</td>\n",
       "      <td>111.857790</td>\n",
       "      <td>329.782639</td>\n",
       "      <td>5.742023</td>\n",
       "      <td>4.866864e+03</td>\n",
       "      <td>145.999866</td>\n",
       "      <td>0.0</td>\n",
       "      <td>...</td>\n",
       "      <td>161.592795</td>\n",
       "      <td>1.991087</td>\n",
       "      <td>0.170790</td>\n",
       "      <td>11.283432</td>\n",
       "      <td>1.550401</td>\n",
       "      <td>0.0</td>\n",
       "      <td>2.822858</td>\n",
       "      <td>3.134117</td>\n",
       "      <td>0.029199</td>\n",
       "      <td>0.010929</td>\n",
       "    </tr>\n",
       "    <tr>\n",
       "      <th>min</th>\n",
       "      <td>21.000000</td>\n",
       "      <td>8.000000</td>\n",
       "      <td>1.650000</td>\n",
       "      <td>0.0</td>\n",
       "      <td>34.962500</td>\n",
       "      <td>670.000000</td>\n",
       "      <td>7.333333</td>\n",
       "      <td>3.514000e+03</td>\n",
       "      <td>71.139241</td>\n",
       "      <td>0.0</td>\n",
       "      <td>...</td>\n",
       "      <td>94.000000</td>\n",
       "      <td>55.000000</td>\n",
       "      <td>6.000000</td>\n",
       "      <td>7.000000</td>\n",
       "      <td>26.000000</td>\n",
       "      <td>0.0</td>\n",
       "      <td>30.000000</td>\n",
       "      <td>50.000000</td>\n",
       "      <td>0.000000</td>\n",
       "      <td>7.000000</td>\n",
       "    </tr>\n",
       "    <tr>\n",
       "      <th>25%</th>\n",
       "      <td>40.000000</td>\n",
       "      <td>12.000000</td>\n",
       "      <td>9.972973</td>\n",
       "      <td>0.0</td>\n",
       "      <td>208.725000</td>\n",
       "      <td>1556.000000</td>\n",
       "      <td>38.833333</td>\n",
       "      <td>8.393000e+03</td>\n",
       "      <td>209.648228</td>\n",
       "      <td>0.0</td>\n",
       "      <td>...</td>\n",
       "      <td>389.000000</td>\n",
       "      <td>221.000000</td>\n",
       "      <td>26.000000</td>\n",
       "      <td>24.000000</td>\n",
       "      <td>116.000000</td>\n",
       "      <td>0.0</td>\n",
       "      <td>121.000000</td>\n",
       "      <td>87.000000</td>\n",
       "      <td>0.000000</td>\n",
       "      <td>8.000000</td>\n",
       "    </tr>\n",
       "    <tr>\n",
       "      <th>50%</th>\n",
       "      <td>41.000000</td>\n",
       "      <td>15.000000</td>\n",
       "      <td>11.000000</td>\n",
       "      <td>0.0</td>\n",
       "      <td>243.963710</td>\n",
       "      <td>1735.000000</td>\n",
       "      <td>42.781524</td>\n",
       "      <td>9.287500e+03</td>\n",
       "      <td>247.208951</td>\n",
       "      <td>0.0</td>\n",
       "      <td>...</td>\n",
       "      <td>392.000000</td>\n",
       "      <td>221.000000</td>\n",
       "      <td>26.000000</td>\n",
       "      <td>24.000000</td>\n",
       "      <td>116.000000</td>\n",
       "      <td>0.0</td>\n",
       "      <td>122.000000</td>\n",
       "      <td>87.000000</td>\n",
       "      <td>0.000000</td>\n",
       "      <td>8.000000</td>\n",
       "    </tr>\n",
       "    <tr>\n",
       "      <th>75%</th>\n",
       "      <td>43.000000</td>\n",
       "      <td>16.000000</td>\n",
       "      <td>12.861955</td>\n",
       "      <td>0.0</td>\n",
       "      <td>289.974322</td>\n",
       "      <td>2087.000000</td>\n",
       "      <td>49.605280</td>\n",
       "      <td>1.219300e+04</td>\n",
       "      <td>291.355050</td>\n",
       "      <td>0.0</td>\n",
       "      <td>...</td>\n",
       "      <td>395.000000</td>\n",
       "      <td>222.000000</td>\n",
       "      <td>26.000000</td>\n",
       "      <td>27.000000</td>\n",
       "      <td>118.000000</td>\n",
       "      <td>0.0</td>\n",
       "      <td>123.000000</td>\n",
       "      <td>88.000000</td>\n",
       "      <td>0.000000</td>\n",
       "      <td>8.000000</td>\n",
       "    </tr>\n",
       "    <tr>\n",
       "      <th>max</th>\n",
       "      <td>240.000000</td>\n",
       "      <td>72.000000</td>\n",
       "      <td>16.818182</td>\n",
       "      <td>0.0</td>\n",
       "      <td>24845.951220</td>\n",
       "      <td>3443.000000</td>\n",
       "      <td>53.170732</td>\n",
       "      <td>1.047310e+06</td>\n",
       "      <td>33784.193550</td>\n",
       "      <td>0.0</td>\n",
       "      <td>...</td>\n",
       "      <td>1441.000000</td>\n",
       "      <td>222.000000</td>\n",
       "      <td>26.000000</td>\n",
       "      <td>97.000000</td>\n",
       "      <td>118.000000</td>\n",
       "      <td>0.0</td>\n",
       "      <td>129.000000</td>\n",
       "      <td>89.000000</td>\n",
       "      <td>1.000000</td>\n",
       "      <td>8.000000</td>\n",
       "    </tr>\n",
       "  </tbody>\n",
       "</table>\n",
       "<p>8 rows × 55 columns</p>\n",
       "</div>"
      ],
      "text/plain": [
       "       pslist.nproc  pslist.nppid  pslist.avg_threads  pslist.nprocs64bit  \\\n",
       "count  58596.000000  58596.000000        58596.000000             58596.0   \n",
       "mean      41.394771     14.713837           11.341655                 0.0   \n",
       "std        5.777249      2.656748            1.588231                 0.0   \n",
       "min       21.000000      8.000000            1.650000                 0.0   \n",
       "25%       40.000000     12.000000            9.972973                 0.0   \n",
       "50%       41.000000     15.000000           11.000000                 0.0   \n",
       "75%       43.000000     16.000000           12.861955                 0.0   \n",
       "max      240.000000     72.000000           16.818182                 0.0   \n",
       "\n",
       "       pslist.avg_handlers  dlllist.ndlls  dlllist.avg_dlls_per_proc  \\\n",
       "count         58596.000000   58596.000000               58596.000000   \n",
       "mean            247.509819    1810.805447                  43.707806   \n",
       "std             111.857790     329.782639                   5.742023   \n",
       "min              34.962500     670.000000                   7.333333   \n",
       "25%             208.725000    1556.000000                  38.833333   \n",
       "50%             243.963710    1735.000000                  42.781524   \n",
       "75%             289.974322    2087.000000                  49.605280   \n",
       "max           24845.951220    3443.000000                  53.170732   \n",
       "\n",
       "       handles.nhandles  handles.avg_handles_per_proc  handles.nport  ...  \\\n",
       "count      5.859600e+04                  58596.000000        58596.0  ...   \n",
       "mean       1.025858e+04                    249.560958            0.0  ...   \n",
       "std        4.866864e+03                    145.999866            0.0  ...   \n",
       "min        3.514000e+03                     71.139241            0.0  ...   \n",
       "25%        8.393000e+03                    209.648228            0.0  ...   \n",
       "50%        9.287500e+03                    247.208951            0.0  ...   \n",
       "75%        1.219300e+04                    291.355050            0.0  ...   \n",
       "max        1.047310e+06                  33784.193550            0.0  ...   \n",
       "\n",
       "       svcscan.nservices  svcscan.kernel_drivers  svcscan.fs_drivers  \\\n",
       "count       58596.000000            58596.000000        58596.000000   \n",
       "mean          417.183374              221.406581           25.996245   \n",
       "std           161.592795                1.991087            0.170790   \n",
       "min            94.000000               55.000000            6.000000   \n",
       "25%           389.000000              221.000000           26.000000   \n",
       "50%           392.000000              221.000000           26.000000   \n",
       "75%           395.000000              222.000000           26.000000   \n",
       "max          1441.000000              222.000000           26.000000   \n",
       "\n",
       "       svcscan.process_services  svcscan.shared_process_services  \\\n",
       "count              58596.000000                     58596.000000   \n",
       "mean                  26.878388                       116.879514   \n",
       "std                   11.283432                         1.550401   \n",
       "min                    7.000000                        26.000000   \n",
       "25%                   24.000000                       116.000000   \n",
       "50%                   24.000000                       116.000000   \n",
       "75%                   27.000000                       118.000000   \n",
       "max                   97.000000                       118.000000   \n",
       "\n",
       "       svcscan.interactive_process_services  svcscan.nactive  \\\n",
       "count                               58596.0     58596.000000   \n",
       "mean                                    0.0       121.995546   \n",
       "std                                     0.0         2.822858   \n",
       "min                                     0.0        30.000000   \n",
       "25%                                     0.0       121.000000   \n",
       "50%                                     0.0       122.000000   \n",
       "75%                                     0.0       123.000000   \n",
       "max                                     0.0       129.000000   \n",
       "\n",
       "       callbacks.ncallbacks  callbacks.nanonymous  callbacks.ngeneric  \n",
       "count          58596.000000          58596.000000        58596.000000  \n",
       "mean              86.905659              0.000853            7.999881  \n",
       "std                3.134117              0.029199            0.010929  \n",
       "min               50.000000              0.000000            7.000000  \n",
       "25%               87.000000              0.000000            8.000000  \n",
       "50%               87.000000              0.000000            8.000000  \n",
       "75%               88.000000              0.000000            8.000000  \n",
       "max               89.000000              1.000000            8.000000  \n",
       "\n",
       "[8 rows x 55 columns]"
      ]
     },
     "execution_count": 40,
     "metadata": {},
     "output_type": "execute_result"
    }
   ],
   "source": [
    "original_df.describe()"
   ]
  },
  {
   "cell_type": "code",
   "execution_count": 41,
   "metadata": {
    "colab": {
     "base_uri": "https://localhost:8080/",
     "height": 617
    },
    "id": "pdEUm4d6f3Gv",
    "outputId": "f3aee77a-8212-4408-a6ca-960b33eaeefb"
   },
   "outputs": [
    {
     "data": {
      "text/html": [
       "<div>\n",
       "<style scoped>\n",
       "    .dataframe tbody tr th:only-of-type {\n",
       "        vertical-align: middle;\n",
       "    }\n",
       "\n",
       "    .dataframe tbody tr th {\n",
       "        vertical-align: top;\n",
       "    }\n",
       "\n",
       "    .dataframe thead th {\n",
       "        text-align: right;\n",
       "    }\n",
       "</style>\n",
       "<table border=\"1\" class=\"dataframe\">\n",
       "  <thead>\n",
       "    <tr style=\"text-align: right;\">\n",
       "      <th></th>\n",
       "      <th>Category</th>\n",
       "      <th>pslist.nproc</th>\n",
       "      <th>pslist.nppid</th>\n",
       "      <th>pslist.avg_threads</th>\n",
       "      <th>pslist.nprocs64bit</th>\n",
       "      <th>pslist.avg_handlers</th>\n",
       "      <th>dlllist.ndlls</th>\n",
       "      <th>dlllist.avg_dlls_per_proc</th>\n",
       "      <th>handles.nhandles</th>\n",
       "      <th>handles.avg_handles_per_proc</th>\n",
       "      <th>...</th>\n",
       "      <th>svcscan.kernel_drivers</th>\n",
       "      <th>svcscan.fs_drivers</th>\n",
       "      <th>svcscan.process_services</th>\n",
       "      <th>svcscan.shared_process_services</th>\n",
       "      <th>svcscan.interactive_process_services</th>\n",
       "      <th>svcscan.nactive</th>\n",
       "      <th>callbacks.ncallbacks</th>\n",
       "      <th>callbacks.nanonymous</th>\n",
       "      <th>callbacks.ngeneric</th>\n",
       "      <th>Class</th>\n",
       "    </tr>\n",
       "  </thead>\n",
       "  <tbody>\n",
       "    <tr>\n",
       "      <th>58446</th>\n",
       "      <td>Ransomware-Shade-fac0837a5f1d610f0012c7655e85a...</td>\n",
       "      <td>32</td>\n",
       "      <td>12</td>\n",
       "      <td>10.843750</td>\n",
       "      <td>0</td>\n",
       "      <td>192.968750</td>\n",
       "      <td>1222</td>\n",
       "      <td>38.187500</td>\n",
       "      <td>6175</td>\n",
       "      <td>192.968750</td>\n",
       "      <td>...</td>\n",
       "      <td>219</td>\n",
       "      <td>26</td>\n",
       "      <td>97</td>\n",
       "      <td>110</td>\n",
       "      <td>0</td>\n",
       "      <td>114</td>\n",
       "      <td>88</td>\n",
       "      <td>0</td>\n",
       "      <td>8</td>\n",
       "      <td>Malware</td>\n",
       "    </tr>\n",
       "    <tr>\n",
       "      <th>58447</th>\n",
       "      <td>Ransomware-Shade-955d9af38346c1755527bd196668e...</td>\n",
       "      <td>40</td>\n",
       "      <td>16</td>\n",
       "      <td>9.850000</td>\n",
       "      <td>0</td>\n",
       "      <td>209.150000</td>\n",
       "      <td>1564</td>\n",
       "      <td>39.100000</td>\n",
       "      <td>8366</td>\n",
       "      <td>209.150000</td>\n",
       "      <td>...</td>\n",
       "      <td>221</td>\n",
       "      <td>26</td>\n",
       "      <td>97</td>\n",
       "      <td>116</td>\n",
       "      <td>0</td>\n",
       "      <td>123</td>\n",
       "      <td>86</td>\n",
       "      <td>0</td>\n",
       "      <td>8</td>\n",
       "      <td>Malware</td>\n",
       "    </tr>\n",
       "    <tr>\n",
       "      <th>58448</th>\n",
       "      <td>Ransomware-Shade-f454622ad2ea0179431365de97aa7...</td>\n",
       "      <td>44</td>\n",
       "      <td>17</td>\n",
       "      <td>9.568182</td>\n",
       "      <td>0</td>\n",
       "      <td>207.159091</td>\n",
       "      <td>1729</td>\n",
       "      <td>39.295455</td>\n",
       "      <td>9115</td>\n",
       "      <td>207.159091</td>\n",
       "      <td>...</td>\n",
       "      <td>221</td>\n",
       "      <td>26</td>\n",
       "      <td>97</td>\n",
       "      <td>116</td>\n",
       "      <td>0</td>\n",
       "      <td>122</td>\n",
       "      <td>86</td>\n",
       "      <td>0</td>\n",
       "      <td>8</td>\n",
       "      <td>Malware</td>\n",
       "    </tr>\n",
       "    <tr>\n",
       "      <th>58449</th>\n",
       "      <td>Ransomware-Shade-f8706f16346098dca17ca6852b21d...</td>\n",
       "      <td>44</td>\n",
       "      <td>17</td>\n",
       "      <td>9.227273</td>\n",
       "      <td>0</td>\n",
       "      <td>197.045455</td>\n",
       "      <td>1656</td>\n",
       "      <td>37.636364</td>\n",
       "      <td>8670</td>\n",
       "      <td>197.045455</td>\n",
       "      <td>...</td>\n",
       "      <td>221</td>\n",
       "      <td>26</td>\n",
       "      <td>97</td>\n",
       "      <td>116</td>\n",
       "      <td>0</td>\n",
       "      <td>122</td>\n",
       "      <td>86</td>\n",
       "      <td>0</td>\n",
       "      <td>8</td>\n",
       "      <td>Malware</td>\n",
       "    </tr>\n",
       "    <tr>\n",
       "      <th>58450</th>\n",
       "      <td>Ransomware-Shade-fac0837a5f1d610f0012c7655e85a...</td>\n",
       "      <td>34</td>\n",
       "      <td>12</td>\n",
       "      <td>10.411765</td>\n",
       "      <td>0</td>\n",
       "      <td>185.970588</td>\n",
       "      <td>1270</td>\n",
       "      <td>37.352941</td>\n",
       "      <td>6323</td>\n",
       "      <td>185.970588</td>\n",
       "      <td>...</td>\n",
       "      <td>219</td>\n",
       "      <td>26</td>\n",
       "      <td>97</td>\n",
       "      <td>110</td>\n",
       "      <td>0</td>\n",
       "      <td>116</td>\n",
       "      <td>88</td>\n",
       "      <td>0</td>\n",
       "      <td>8</td>\n",
       "      <td>Malware</td>\n",
       "    </tr>\n",
       "    <tr>\n",
       "      <th>...</th>\n",
       "      <td>...</td>\n",
       "      <td>...</td>\n",
       "      <td>...</td>\n",
       "      <td>...</td>\n",
       "      <td>...</td>\n",
       "      <td>...</td>\n",
       "      <td>...</td>\n",
       "      <td>...</td>\n",
       "      <td>...</td>\n",
       "      <td>...</td>\n",
       "      <td>...</td>\n",
       "      <td>...</td>\n",
       "      <td>...</td>\n",
       "      <td>...</td>\n",
       "      <td>...</td>\n",
       "      <td>...</td>\n",
       "      <td>...</td>\n",
       "      <td>...</td>\n",
       "      <td>...</td>\n",
       "      <td>...</td>\n",
       "      <td>...</td>\n",
       "    </tr>\n",
       "    <tr>\n",
       "      <th>58591</th>\n",
       "      <td>Ransomware-Shade-fa03be3078d1b9840f06745f160eb...</td>\n",
       "      <td>37</td>\n",
       "      <td>15</td>\n",
       "      <td>10.108108</td>\n",
       "      <td>0</td>\n",
       "      <td>215.486487</td>\n",
       "      <td>1453</td>\n",
       "      <td>39.270270</td>\n",
       "      <td>7973</td>\n",
       "      <td>215.486487</td>\n",
       "      <td>...</td>\n",
       "      <td>221</td>\n",
       "      <td>26</td>\n",
       "      <td>97</td>\n",
       "      <td>116</td>\n",
       "      <td>0</td>\n",
       "      <td>120</td>\n",
       "      <td>86</td>\n",
       "      <td>0</td>\n",
       "      <td>8</td>\n",
       "      <td>Malware</td>\n",
       "    </tr>\n",
       "    <tr>\n",
       "      <th>58592</th>\n",
       "      <td>Ransomware-Shade-f56687137caf9a67678cde91e4614...</td>\n",
       "      <td>37</td>\n",
       "      <td>14</td>\n",
       "      <td>9.945946</td>\n",
       "      <td>0</td>\n",
       "      <td>190.216216</td>\n",
       "      <td>1347</td>\n",
       "      <td>36.405405</td>\n",
       "      <td>7038</td>\n",
       "      <td>190.216216</td>\n",
       "      <td>...</td>\n",
       "      <td>221</td>\n",
       "      <td>26</td>\n",
       "      <td>97</td>\n",
       "      <td>116</td>\n",
       "      <td>0</td>\n",
       "      <td>116</td>\n",
       "      <td>88</td>\n",
       "      <td>0</td>\n",
       "      <td>8</td>\n",
       "      <td>Malware</td>\n",
       "    </tr>\n",
       "    <tr>\n",
       "      <th>58593</th>\n",
       "      <td>Ransomware-Shade-faddeea111a25da4d0888f3044ae9...</td>\n",
       "      <td>38</td>\n",
       "      <td>15</td>\n",
       "      <td>9.842105</td>\n",
       "      <td>0</td>\n",
       "      <td>210.026316</td>\n",
       "      <td>1448</td>\n",
       "      <td>38.105263</td>\n",
       "      <td>7982</td>\n",
       "      <td>215.729730</td>\n",
       "      <td>...</td>\n",
       "      <td>221</td>\n",
       "      <td>26</td>\n",
       "      <td>97</td>\n",
       "      <td>116</td>\n",
       "      <td>0</td>\n",
       "      <td>120</td>\n",
       "      <td>88</td>\n",
       "      <td>0</td>\n",
       "      <td>8</td>\n",
       "      <td>Malware</td>\n",
       "    </tr>\n",
       "    <tr>\n",
       "      <th>58594</th>\n",
       "      <td>Ransomware-Shade-f866c086af2e1d8ebaa6f2c863157...</td>\n",
       "      <td>37</td>\n",
       "      <td>15</td>\n",
       "      <td>10.243243</td>\n",
       "      <td>0</td>\n",
       "      <td>215.513513</td>\n",
       "      <td>1452</td>\n",
       "      <td>39.243243</td>\n",
       "      <td>7974</td>\n",
       "      <td>215.513513</td>\n",
       "      <td>...</td>\n",
       "      <td>221</td>\n",
       "      <td>26</td>\n",
       "      <td>97</td>\n",
       "      <td>116</td>\n",
       "      <td>0</td>\n",
       "      <td>120</td>\n",
       "      <td>87</td>\n",
       "      <td>0</td>\n",
       "      <td>8</td>\n",
       "      <td>Malware</td>\n",
       "    </tr>\n",
       "    <tr>\n",
       "      <th>58595</th>\n",
       "      <td>Ran+A58597:AV58597somware-Shade-955d9af38346c1...</td>\n",
       "      <td>38</td>\n",
       "      <td>15</td>\n",
       "      <td>9.868421</td>\n",
       "      <td>0</td>\n",
       "      <td>213.026316</td>\n",
       "      <td>1487</td>\n",
       "      <td>39.131579</td>\n",
       "      <td>8095</td>\n",
       "      <td>213.026316</td>\n",
       "      <td>...</td>\n",
       "      <td>221</td>\n",
       "      <td>26</td>\n",
       "      <td>97</td>\n",
       "      <td>116</td>\n",
       "      <td>0</td>\n",
       "      <td>120</td>\n",
       "      <td>86</td>\n",
       "      <td>0</td>\n",
       "      <td>8</td>\n",
       "      <td>Malware</td>\n",
       "    </tr>\n",
       "  </tbody>\n",
       "</table>\n",
       "<p>150 rows × 57 columns</p>\n",
       "</div>"
      ],
      "text/plain": [
       "                                                Category  pslist.nproc  \\\n",
       "58446  Ransomware-Shade-fac0837a5f1d610f0012c7655e85a...            32   \n",
       "58447  Ransomware-Shade-955d9af38346c1755527bd196668e...            40   \n",
       "58448  Ransomware-Shade-f454622ad2ea0179431365de97aa7...            44   \n",
       "58449  Ransomware-Shade-f8706f16346098dca17ca6852b21d...            44   \n",
       "58450  Ransomware-Shade-fac0837a5f1d610f0012c7655e85a...            34   \n",
       "...                                                  ...           ...   \n",
       "58591  Ransomware-Shade-fa03be3078d1b9840f06745f160eb...            37   \n",
       "58592  Ransomware-Shade-f56687137caf9a67678cde91e4614...            37   \n",
       "58593  Ransomware-Shade-faddeea111a25da4d0888f3044ae9...            38   \n",
       "58594  Ransomware-Shade-f866c086af2e1d8ebaa6f2c863157...            37   \n",
       "58595  Ran+A58597:AV58597somware-Shade-955d9af38346c1...            38   \n",
       "\n",
       "       pslist.nppid  pslist.avg_threads  pslist.nprocs64bit  \\\n",
       "58446            12           10.843750                   0   \n",
       "58447            16            9.850000                   0   \n",
       "58448            17            9.568182                   0   \n",
       "58449            17            9.227273                   0   \n",
       "58450            12           10.411765                   0   \n",
       "...             ...                 ...                 ...   \n",
       "58591            15           10.108108                   0   \n",
       "58592            14            9.945946                   0   \n",
       "58593            15            9.842105                   0   \n",
       "58594            15           10.243243                   0   \n",
       "58595            15            9.868421                   0   \n",
       "\n",
       "       pslist.avg_handlers  dlllist.ndlls  dlllist.avg_dlls_per_proc  \\\n",
       "58446           192.968750           1222                  38.187500   \n",
       "58447           209.150000           1564                  39.100000   \n",
       "58448           207.159091           1729                  39.295455   \n",
       "58449           197.045455           1656                  37.636364   \n",
       "58450           185.970588           1270                  37.352941   \n",
       "...                    ...            ...                        ...   \n",
       "58591           215.486487           1453                  39.270270   \n",
       "58592           190.216216           1347                  36.405405   \n",
       "58593           210.026316           1448                  38.105263   \n",
       "58594           215.513513           1452                  39.243243   \n",
       "58595           213.026316           1487                  39.131579   \n",
       "\n",
       "       handles.nhandles  handles.avg_handles_per_proc  ...  \\\n",
       "58446              6175                    192.968750  ...   \n",
       "58447              8366                    209.150000  ...   \n",
       "58448              9115                    207.159091  ...   \n",
       "58449              8670                    197.045455  ...   \n",
       "58450              6323                    185.970588  ...   \n",
       "...                 ...                           ...  ...   \n",
       "58591              7973                    215.486487  ...   \n",
       "58592              7038                    190.216216  ...   \n",
       "58593              7982                    215.729730  ...   \n",
       "58594              7974                    215.513513  ...   \n",
       "58595              8095                    213.026316  ...   \n",
       "\n",
       "       svcscan.kernel_drivers  svcscan.fs_drivers  svcscan.process_services  \\\n",
       "58446                     219                  26                        97   \n",
       "58447                     221                  26                        97   \n",
       "58448                     221                  26                        97   \n",
       "58449                     221                  26                        97   \n",
       "58450                     219                  26                        97   \n",
       "...                       ...                 ...                       ...   \n",
       "58591                     221                  26                        97   \n",
       "58592                     221                  26                        97   \n",
       "58593                     221                  26                        97   \n",
       "58594                     221                  26                        97   \n",
       "58595                     221                  26                        97   \n",
       "\n",
       "       svcscan.shared_process_services  svcscan.interactive_process_services  \\\n",
       "58446                              110                                     0   \n",
       "58447                              116                                     0   \n",
       "58448                              116                                     0   \n",
       "58449                              116                                     0   \n",
       "58450                              110                                     0   \n",
       "...                                ...                                   ...   \n",
       "58591                              116                                     0   \n",
       "58592                              116                                     0   \n",
       "58593                              116                                     0   \n",
       "58594                              116                                     0   \n",
       "58595                              116                                     0   \n",
       "\n",
       "       svcscan.nactive  callbacks.ncallbacks  callbacks.nanonymous  \\\n",
       "58446              114                    88                     0   \n",
       "58447              123                    86                     0   \n",
       "58448              122                    86                     0   \n",
       "58449              122                    86                     0   \n",
       "58450              116                    88                     0   \n",
       "...                ...                   ...                   ...   \n",
       "58591              120                    86                     0   \n",
       "58592              116                    88                     0   \n",
       "58593              120                    88                     0   \n",
       "58594              120                    87                     0   \n",
       "58595              120                    86                     0   \n",
       "\n",
       "       callbacks.ngeneric    Class  \n",
       "58446                   8  Malware  \n",
       "58447                   8  Malware  \n",
       "58448                   8  Malware  \n",
       "58449                   8  Malware  \n",
       "58450                   8  Malware  \n",
       "...                   ...      ...  \n",
       "58591                   8  Malware  \n",
       "58592                   8  Malware  \n",
       "58593                   8  Malware  \n",
       "58594                   8  Malware  \n",
       "58595                   8  Malware  \n",
       "\n",
       "[150 rows x 57 columns]"
      ]
     },
     "execution_count": 41,
     "metadata": {},
     "output_type": "execute_result"
    }
   ],
   "source": [
    "original_df.tail(150)"
   ]
  },
  {
   "cell_type": "markdown",
   "metadata": {
    "id": "hnWHaCeSzIC1"
   },
   "source": [
    "## Data Cleaning"
   ]
  },
  {
   "cell_type": "code",
   "execution_count": 42,
   "metadata": {
    "colab": {
     "base_uri": "https://localhost:8080/"
    },
    "id": "QREPMg760Zi1",
    "outputId": "f980459e-6186-48ff-9a21-732b592f7ea9"
   },
   "outputs": [
    {
     "data": {
      "text/plain": [
       "(58596, 57)"
      ]
     },
     "execution_count": 42,
     "metadata": {},
     "output_type": "execute_result"
    }
   ],
   "source": [
    "df = original_df.copy()\n",
    "df.shape"
   ]
  },
  {
   "cell_type": "code",
   "execution_count": 43,
   "metadata": {
    "id": "HOOfsM5yeD5i"
   },
   "outputs": [],
   "source": [
    "import pandas as pd\n",
    "\n",
    "def select_every_nth_row(df, n=1000):\n",
    "    \"\"\"\n",
    "    Select every nth row from a DataFrame.\n",
    "\n",
    "    Parameters:\n",
    "    - df: The input DataFrame.\n",
    "    - n: The interval for row selection (default is 1000).\n",
    "\n",
    "    Returns:\n",
    "    - A new DataFrame containing every nth row from the input DataFrame.\n",
    "    \"\"\"\n",
    "    selected_rows = df.iloc[::n]\n",
    "    return selected_rows\n",
    "\n",
    "# Example usage:\n",
    "# Assuming df is your DataFrame with shape (58596, 57)\n",
    "selected_rows = select_every_nth_row(df, n=1000)\n",
    "\n",
    "# Now, selected_rows contains the rows at the specified indices\n",
    "#selected_rows"
   ]
  },
  {
   "cell_type": "code",
   "execution_count": 44,
   "metadata": {
    "colab": {
     "base_uri": "https://localhost:8080/"
    },
    "id": "a8rbA9aCeD5i",
    "outputId": "94f7a694-2ce4-4d05-ddbf-6c8a8d150309"
   },
   "outputs": [
    {
     "name": "stdout",
     "output_type": "stream",
     "text": [
      "All values in pslist.nprocs64bit are identical.\n",
      "All values in handles.nport are identical.\n",
      "All values in svcscan.interactive_process_services are identical.\n"
     ]
    }
   ],
   "source": [
    "# Check if all values in each column are identical\n",
    "for column in df.columns:\n",
    "    if df[column].nunique() == 1:\n",
    "        print(f\"All values in {column} are identical.\")"
   ]
  },
  {
   "cell_type": "code",
   "execution_count": 45,
   "metadata": {
    "id": "_0kFw0sveD5i"
   },
   "outputs": [],
   "source": [
    "# drop identical columns\n",
    "# List of columns to drop\n",
    "columns_to_drop = ['pslist.nprocs64bit', 'handles.nport', 'svcscan.interactive_process_services']\n",
    "\n",
    "# Drop the specified columns\n",
    "df.drop(columns=columns_to_drop, inplace=True)"
   ]
  },
  {
   "cell_type": "code",
   "execution_count": 46,
   "metadata": {
    "colab": {
     "base_uri": "https://localhost:8080/"
    },
    "id": "2yV762_j2wRQ",
    "outputId": "21934d2e-8988-45b1-fc6e-9cadaf557960"
   },
   "outputs": [
    {
     "name": "stdout",
     "output_type": "stream",
     "text": [
      "Number of Missing Values:\n",
      "Category                                  0\n",
      "pslist.nproc                              0\n",
      "pslist.nppid                              0\n",
      "pslist.avg_threads                        0\n",
      "pslist.avg_handlers                       0\n",
      "dlllist.ndlls                             0\n",
      "dlllist.avg_dlls_per_proc                 0\n",
      "handles.nhandles                          0\n",
      "handles.avg_handles_per_proc              0\n",
      "handles.nfile                             0\n",
      "handles.nevent                            0\n",
      "handles.ndesktop                          0\n",
      "handles.nkey                              0\n",
      "handles.nthread                           0\n",
      "handles.ndirectory                        0\n",
      "handles.nsemaphore                        0\n",
      "handles.ntimer                            0\n",
      "handles.nsection                          0\n",
      "handles.nmutant                           0\n",
      "ldrmodules.not_in_load                    0\n",
      "ldrmodules.not_in_init                    0\n",
      "ldrmodules.not_in_mem                     0\n",
      "ldrmodules.not_in_load_avg                0\n",
      "ldrmodules.not_in_init_avg                0\n",
      "ldrmodules.not_in_mem_avg                 0\n",
      "malfind.ninjections                       0\n",
      "malfind.commitCharge                      0\n",
      "malfind.protection                        0\n",
      "malfind.uniqueInjections                  0\n",
      "psxview.not_in_pslist                     0\n",
      "psxview.not_in_eprocess_pool              0\n",
      "psxview.not_in_ethread_pool               0\n",
      "psxview.not_in_pspcid_list                0\n",
      "psxview.not_in_csrss_handles              0\n",
      "psxview.not_in_session                    0\n",
      "psxview.not_in_deskthrd                   0\n",
      "psxview.not_in_pslist_false_avg           0\n",
      "psxview.not_in_eprocess_pool_false_avg    0\n",
      "psxview.not_in_ethread_pool_false_avg     0\n",
      "psxview.not_in_pspcid_list_false_avg      0\n",
      "psxview.not_in_csrss_handles_false_avg    0\n",
      "psxview.not_in_session_false_avg          0\n",
      "psxview.not_in_deskthrd_false_avg         0\n",
      "modules.nmodules                          0\n",
      "svcscan.nservices                         0\n",
      "svcscan.kernel_drivers                    0\n",
      "svcscan.fs_drivers                        0\n",
      "svcscan.process_services                  0\n",
      "svcscan.shared_process_services           0\n",
      "svcscan.nactive                           0\n",
      "callbacks.ncallbacks                      0\n",
      "callbacks.nanonymous                      0\n",
      "callbacks.ngeneric                        0\n",
      "Class                                     0\n",
      "dtype: int64\n",
      "\n",
      "Number of Duplicate Rows: 534\n"
     ]
    },
    {
     "name": "stderr",
     "output_type": "stream",
     "text": [
      "C:\\Users\\okore\\AppData\\Local\\Temp\\ipykernel_18632\\3489326601.py:12: FutureWarning: DataFrame.fillna with 'method' is deprecated and will raise in a future version. Use obj.ffill() or obj.bfill() instead.\n",
      "  df.fillna(method=\"ffill\", inplace=True)  # Forward fill missing values\n"
     ]
    }
   ],
   "source": [
    "import pandas as pd\n",
    "from scipy.stats import zscore\n",
    "\n",
    "# Print the number of missing values\n",
    "print(\"Number of Missing Values:\")\n",
    "print(df.isnull().sum())\n",
    "\n",
    "# Print the number of duplicate rows\n",
    "print(\"\\nNumber of Duplicate Rows:\", df.duplicated().sum())\n",
    "\n",
    "# Handling Missing Values\n",
    "df.fillna(method=\"ffill\", inplace=True)  # Forward fill missing values\n",
    "\n",
    "# Removing Duplicates\n",
    "df.drop_duplicates(inplace=True)\n",
    "\n",
    "# Data Type Conversion\n",
    "# df[\"Class\"] = df[\"Class\"].astype(\"category\")\n",
    "\n",
    "#Outlier Handling (Example: Using Z-score)\n",
    "# z_scores = zscore(df.select_dtypes(include=['int64', 'float64']))\n",
    "# df = df[(z_scores < 3).all(axis=1)]\n",
    "\n",
    "# Handling Categorical Data (One-Hot Encoding)\n",
    "df = pd.get_dummies(df, columns=[\"Class\"], drop_first=True)\n",
    "\n",
    "# Feature Scaling (Min-Max Scaling)\n",
    "# df[df.select_dtypes(include=['int64', 'float64']).columns] = \\\n",
    "#     (df[df.select_dtypes(include=['int64', 'float64']).columns] - df[df.select_dtypes(include=['int64', 'float64']).columns].min()) / \\\n",
    "#     (df[df.select_dtypes(include=['int64', 'float64']).columns].max() - df[df.select_dtypes(include=['int64', 'float64']).columns].min())\n",
    "\n",
    "# Removing Unnecessary Columns\n",
    "# columns_to_remove = [\"Column1\", \"Column2\"]  # List of columns to remove\n",
    "# df.drop(columns=columns_to_remove, inplace=True)\n"
   ]
  },
  {
   "cell_type": "code",
   "execution_count": 47,
   "metadata": {},
   "outputs": [
    {
     "data": {
      "text/html": [
       "<div>\n",
       "<style scoped>\n",
       "    .dataframe tbody tr th:only-of-type {\n",
       "        vertical-align: middle;\n",
       "    }\n",
       "\n",
       "    .dataframe tbody tr th {\n",
       "        vertical-align: top;\n",
       "    }\n",
       "\n",
       "    .dataframe thead th {\n",
       "        text-align: right;\n",
       "    }\n",
       "</style>\n",
       "<table border=\"1\" class=\"dataframe\">\n",
       "  <thead>\n",
       "    <tr style=\"text-align: right;\">\n",
       "      <th></th>\n",
       "      <th>Category</th>\n",
       "      <th>pslist.nproc</th>\n",
       "      <th>pslist.nppid</th>\n",
       "      <th>pslist.avg_threads</th>\n",
       "      <th>pslist.avg_handlers</th>\n",
       "      <th>dlllist.ndlls</th>\n",
       "      <th>dlllist.avg_dlls_per_proc</th>\n",
       "      <th>handles.nhandles</th>\n",
       "      <th>handles.avg_handles_per_proc</th>\n",
       "      <th>handles.nfile</th>\n",
       "      <th>...</th>\n",
       "      <th>svcscan.nservices</th>\n",
       "      <th>svcscan.kernel_drivers</th>\n",
       "      <th>svcscan.fs_drivers</th>\n",
       "      <th>svcscan.process_services</th>\n",
       "      <th>svcscan.shared_process_services</th>\n",
       "      <th>svcscan.nactive</th>\n",
       "      <th>callbacks.ncallbacks</th>\n",
       "      <th>callbacks.nanonymous</th>\n",
       "      <th>callbacks.ngeneric</th>\n",
       "      <th>Class_Malware</th>\n",
       "    </tr>\n",
       "  </thead>\n",
       "  <tbody>\n",
       "    <tr>\n",
       "      <th>0</th>\n",
       "      <td>Benign</td>\n",
       "      <td>45</td>\n",
       "      <td>17</td>\n",
       "      <td>10.555556</td>\n",
       "      <td>202.844444</td>\n",
       "      <td>1694</td>\n",
       "      <td>38.500000</td>\n",
       "      <td>9129</td>\n",
       "      <td>212.302326</td>\n",
       "      <td>670</td>\n",
       "      <td>...</td>\n",
       "      <td>389</td>\n",
       "      <td>221</td>\n",
       "      <td>26</td>\n",
       "      <td>24</td>\n",
       "      <td>116</td>\n",
       "      <td>121</td>\n",
       "      <td>87</td>\n",
       "      <td>0</td>\n",
       "      <td>8</td>\n",
       "      <td>False</td>\n",
       "    </tr>\n",
       "    <tr>\n",
       "      <th>1</th>\n",
       "      <td>Benign</td>\n",
       "      <td>47</td>\n",
       "      <td>19</td>\n",
       "      <td>11.531915</td>\n",
       "      <td>242.234043</td>\n",
       "      <td>2074</td>\n",
       "      <td>44.127660</td>\n",
       "      <td>11385</td>\n",
       "      <td>242.234043</td>\n",
       "      <td>840</td>\n",
       "      <td>...</td>\n",
       "      <td>392</td>\n",
       "      <td>222</td>\n",
       "      <td>26</td>\n",
       "      <td>24</td>\n",
       "      <td>118</td>\n",
       "      <td>122</td>\n",
       "      <td>87</td>\n",
       "      <td>0</td>\n",
       "      <td>8</td>\n",
       "      <td>False</td>\n",
       "    </tr>\n",
       "    <tr>\n",
       "      <th>2</th>\n",
       "      <td>Benign</td>\n",
       "      <td>40</td>\n",
       "      <td>14</td>\n",
       "      <td>14.725000</td>\n",
       "      <td>288.225000</td>\n",
       "      <td>1932</td>\n",
       "      <td>48.300000</td>\n",
       "      <td>11529</td>\n",
       "      <td>288.225000</td>\n",
       "      <td>1050</td>\n",
       "      <td>...</td>\n",
       "      <td>395</td>\n",
       "      <td>222</td>\n",
       "      <td>26</td>\n",
       "      <td>27</td>\n",
       "      <td>118</td>\n",
       "      <td>120</td>\n",
       "      <td>88</td>\n",
       "      <td>0</td>\n",
       "      <td>8</td>\n",
       "      <td>False</td>\n",
       "    </tr>\n",
       "    <tr>\n",
       "      <th>3</th>\n",
       "      <td>Benign</td>\n",
       "      <td>32</td>\n",
       "      <td>13</td>\n",
       "      <td>13.500000</td>\n",
       "      <td>264.281250</td>\n",
       "      <td>1445</td>\n",
       "      <td>45.156250</td>\n",
       "      <td>8457</td>\n",
       "      <td>264.281250</td>\n",
       "      <td>630</td>\n",
       "      <td>...</td>\n",
       "      <td>395</td>\n",
       "      <td>222</td>\n",
       "      <td>26</td>\n",
       "      <td>27</td>\n",
       "      <td>118</td>\n",
       "      <td>120</td>\n",
       "      <td>88</td>\n",
       "      <td>0</td>\n",
       "      <td>8</td>\n",
       "      <td>False</td>\n",
       "    </tr>\n",
       "    <tr>\n",
       "      <th>4</th>\n",
       "      <td>Benign</td>\n",
       "      <td>42</td>\n",
       "      <td>16</td>\n",
       "      <td>11.452381</td>\n",
       "      <td>281.333333</td>\n",
       "      <td>2067</td>\n",
       "      <td>49.214286</td>\n",
       "      <td>11816</td>\n",
       "      <td>281.333333</td>\n",
       "      <td>908</td>\n",
       "      <td>...</td>\n",
       "      <td>392</td>\n",
       "      <td>222</td>\n",
       "      <td>26</td>\n",
       "      <td>24</td>\n",
       "      <td>118</td>\n",
       "      <td>124</td>\n",
       "      <td>87</td>\n",
       "      <td>0</td>\n",
       "      <td>8</td>\n",
       "      <td>False</td>\n",
       "    </tr>\n",
       "    <tr>\n",
       "      <th>...</th>\n",
       "      <td>...</td>\n",
       "      <td>...</td>\n",
       "      <td>...</td>\n",
       "      <td>...</td>\n",
       "      <td>...</td>\n",
       "      <td>...</td>\n",
       "      <td>...</td>\n",
       "      <td>...</td>\n",
       "      <td>...</td>\n",
       "      <td>...</td>\n",
       "      <td>...</td>\n",
       "      <td>...</td>\n",
       "      <td>...</td>\n",
       "      <td>...</td>\n",
       "      <td>...</td>\n",
       "      <td>...</td>\n",
       "      <td>...</td>\n",
       "      <td>...</td>\n",
       "      <td>...</td>\n",
       "      <td>...</td>\n",
       "      <td>...</td>\n",
       "    </tr>\n",
       "    <tr>\n",
       "      <th>58591</th>\n",
       "      <td>Ransomware-Shade-fa03be3078d1b9840f06745f160eb...</td>\n",
       "      <td>37</td>\n",
       "      <td>15</td>\n",
       "      <td>10.108108</td>\n",
       "      <td>215.486487</td>\n",
       "      <td>1453</td>\n",
       "      <td>39.270270</td>\n",
       "      <td>7973</td>\n",
       "      <td>215.486487</td>\n",
       "      <td>630</td>\n",
       "      <td>...</td>\n",
       "      <td>1441</td>\n",
       "      <td>221</td>\n",
       "      <td>26</td>\n",
       "      <td>97</td>\n",
       "      <td>116</td>\n",
       "      <td>120</td>\n",
       "      <td>86</td>\n",
       "      <td>0</td>\n",
       "      <td>8</td>\n",
       "      <td>True</td>\n",
       "    </tr>\n",
       "    <tr>\n",
       "      <th>58592</th>\n",
       "      <td>Ransomware-Shade-f56687137caf9a67678cde91e4614...</td>\n",
       "      <td>37</td>\n",
       "      <td>14</td>\n",
       "      <td>9.945946</td>\n",
       "      <td>190.216216</td>\n",
       "      <td>1347</td>\n",
       "      <td>36.405405</td>\n",
       "      <td>7038</td>\n",
       "      <td>190.216216</td>\n",
       "      <td>603</td>\n",
       "      <td>...</td>\n",
       "      <td>1441</td>\n",
       "      <td>221</td>\n",
       "      <td>26</td>\n",
       "      <td>97</td>\n",
       "      <td>116</td>\n",
       "      <td>116</td>\n",
       "      <td>88</td>\n",
       "      <td>0</td>\n",
       "      <td>8</td>\n",
       "      <td>True</td>\n",
       "    </tr>\n",
       "    <tr>\n",
       "      <th>58593</th>\n",
       "      <td>Ransomware-Shade-faddeea111a25da4d0888f3044ae9...</td>\n",
       "      <td>38</td>\n",
       "      <td>15</td>\n",
       "      <td>9.842105</td>\n",
       "      <td>210.026316</td>\n",
       "      <td>1448</td>\n",
       "      <td>38.105263</td>\n",
       "      <td>7982</td>\n",
       "      <td>215.729730</td>\n",
       "      <td>624</td>\n",
       "      <td>...</td>\n",
       "      <td>1441</td>\n",
       "      <td>221</td>\n",
       "      <td>26</td>\n",
       "      <td>97</td>\n",
       "      <td>116</td>\n",
       "      <td>120</td>\n",
       "      <td>88</td>\n",
       "      <td>0</td>\n",
       "      <td>8</td>\n",
       "      <td>True</td>\n",
       "    </tr>\n",
       "    <tr>\n",
       "      <th>58594</th>\n",
       "      <td>Ransomware-Shade-f866c086af2e1d8ebaa6f2c863157...</td>\n",
       "      <td>37</td>\n",
       "      <td>15</td>\n",
       "      <td>10.243243</td>\n",
       "      <td>215.513513</td>\n",
       "      <td>1452</td>\n",
       "      <td>39.243243</td>\n",
       "      <td>7974</td>\n",
       "      <td>215.513513</td>\n",
       "      <td>632</td>\n",
       "      <td>...</td>\n",
       "      <td>1441</td>\n",
       "      <td>221</td>\n",
       "      <td>26</td>\n",
       "      <td>97</td>\n",
       "      <td>116</td>\n",
       "      <td>120</td>\n",
       "      <td>87</td>\n",
       "      <td>0</td>\n",
       "      <td>8</td>\n",
       "      <td>True</td>\n",
       "    </tr>\n",
       "    <tr>\n",
       "      <th>58595</th>\n",
       "      <td>Ran+A58597:AV58597somware-Shade-955d9af38346c1...</td>\n",
       "      <td>38</td>\n",
       "      <td>15</td>\n",
       "      <td>9.868421</td>\n",
       "      <td>213.026316</td>\n",
       "      <td>1487</td>\n",
       "      <td>39.131579</td>\n",
       "      <td>8095</td>\n",
       "      <td>213.026316</td>\n",
       "      <td>637</td>\n",
       "      <td>...</td>\n",
       "      <td>1431</td>\n",
       "      <td>221</td>\n",
       "      <td>26</td>\n",
       "      <td>97</td>\n",
       "      <td>116</td>\n",
       "      <td>120</td>\n",
       "      <td>86</td>\n",
       "      <td>0</td>\n",
       "      <td>8</td>\n",
       "      <td>True</td>\n",
       "    </tr>\n",
       "  </tbody>\n",
       "</table>\n",
       "<p>58062 rows × 54 columns</p>\n",
       "</div>"
      ],
      "text/plain": [
       "                                                Category  pslist.nproc  \\\n",
       "0                                                 Benign            45   \n",
       "1                                                 Benign            47   \n",
       "2                                                 Benign            40   \n",
       "3                                                 Benign            32   \n",
       "4                                                 Benign            42   \n",
       "...                                                  ...           ...   \n",
       "58591  Ransomware-Shade-fa03be3078d1b9840f06745f160eb...            37   \n",
       "58592  Ransomware-Shade-f56687137caf9a67678cde91e4614...            37   \n",
       "58593  Ransomware-Shade-faddeea111a25da4d0888f3044ae9...            38   \n",
       "58594  Ransomware-Shade-f866c086af2e1d8ebaa6f2c863157...            37   \n",
       "58595  Ran+A58597:AV58597somware-Shade-955d9af38346c1...            38   \n",
       "\n",
       "       pslist.nppid  pslist.avg_threads  pslist.avg_handlers  dlllist.ndlls  \\\n",
       "0                17           10.555556           202.844444           1694   \n",
       "1                19           11.531915           242.234043           2074   \n",
       "2                14           14.725000           288.225000           1932   \n",
       "3                13           13.500000           264.281250           1445   \n",
       "4                16           11.452381           281.333333           2067   \n",
       "...             ...                 ...                  ...            ...   \n",
       "58591            15           10.108108           215.486487           1453   \n",
       "58592            14            9.945946           190.216216           1347   \n",
       "58593            15            9.842105           210.026316           1448   \n",
       "58594            15           10.243243           215.513513           1452   \n",
       "58595            15            9.868421           213.026316           1487   \n",
       "\n",
       "       dlllist.avg_dlls_per_proc  handles.nhandles  \\\n",
       "0                      38.500000              9129   \n",
       "1                      44.127660             11385   \n",
       "2                      48.300000             11529   \n",
       "3                      45.156250              8457   \n",
       "4                      49.214286             11816   \n",
       "...                          ...               ...   \n",
       "58591                  39.270270              7973   \n",
       "58592                  36.405405              7038   \n",
       "58593                  38.105263              7982   \n",
       "58594                  39.243243              7974   \n",
       "58595                  39.131579              8095   \n",
       "\n",
       "       handles.avg_handles_per_proc  handles.nfile  ...  svcscan.nservices  \\\n",
       "0                        212.302326            670  ...                389   \n",
       "1                        242.234043            840  ...                392   \n",
       "2                        288.225000           1050  ...                395   \n",
       "3                        264.281250            630  ...                395   \n",
       "4                        281.333333            908  ...                392   \n",
       "...                             ...            ...  ...                ...   \n",
       "58591                    215.486487            630  ...               1441   \n",
       "58592                    190.216216            603  ...               1441   \n",
       "58593                    215.729730            624  ...               1441   \n",
       "58594                    215.513513            632  ...               1441   \n",
       "58595                    213.026316            637  ...               1431   \n",
       "\n",
       "       svcscan.kernel_drivers  svcscan.fs_drivers  svcscan.process_services  \\\n",
       "0                         221                  26                        24   \n",
       "1                         222                  26                        24   \n",
       "2                         222                  26                        27   \n",
       "3                         222                  26                        27   \n",
       "4                         222                  26                        24   \n",
       "...                       ...                 ...                       ...   \n",
       "58591                     221                  26                        97   \n",
       "58592                     221                  26                        97   \n",
       "58593                     221                  26                        97   \n",
       "58594                     221                  26                        97   \n",
       "58595                     221                  26                        97   \n",
       "\n",
       "       svcscan.shared_process_services  svcscan.nactive  callbacks.ncallbacks  \\\n",
       "0                                  116              121                    87   \n",
       "1                                  118              122                    87   \n",
       "2                                  118              120                    88   \n",
       "3                                  118              120                    88   \n",
       "4                                  118              124                    87   \n",
       "...                                ...              ...                   ...   \n",
       "58591                              116              120                    86   \n",
       "58592                              116              116                    88   \n",
       "58593                              116              120                    88   \n",
       "58594                              116              120                    87   \n",
       "58595                              116              120                    86   \n",
       "\n",
       "       callbacks.nanonymous  callbacks.ngeneric  Class_Malware  \n",
       "0                         0                   8          False  \n",
       "1                         0                   8          False  \n",
       "2                         0                   8          False  \n",
       "3                         0                   8          False  \n",
       "4                         0                   8          False  \n",
       "...                     ...                 ...            ...  \n",
       "58591                     0                   8           True  \n",
       "58592                     0                   8           True  \n",
       "58593                     0                   8           True  \n",
       "58594                     0                   8           True  \n",
       "58595                     0                   8           True  \n",
       "\n",
       "[58062 rows x 54 columns]"
      ]
     },
     "execution_count": 47,
     "metadata": {},
     "output_type": "execute_result"
    }
   ],
   "source": [
    "df"
   ]
  },
  {
   "cell_type": "code",
   "execution_count": 48,
   "metadata": {
    "colab": {
     "base_uri": "https://localhost:8080/"
    },
    "id": "1dzO7zXVeD5j",
    "outputId": "46f89943-b051-410d-a904-67461508117e"
   },
   "outputs": [
    {
     "name": "stdout",
     "output_type": "stream",
     "text": [
      "\n",
      "Data Info:\n",
      "<class 'pandas.core.frame.DataFrame'>\n",
      "Index: 58062 entries, 0 to 58595\n",
      "Data columns (total 54 columns):\n",
      " #   Column                                  Non-Null Count  Dtype  \n",
      "---  ------                                  --------------  -----  \n",
      " 0   Category                                58062 non-null  object \n",
      " 1   pslist.nproc                            58062 non-null  int64  \n",
      " 2   pslist.nppid                            58062 non-null  int64  \n",
      " 3   pslist.avg_threads                      58062 non-null  float64\n",
      " 4   pslist.avg_handlers                     58062 non-null  float64\n",
      " 5   dlllist.ndlls                           58062 non-null  int64  \n",
      " 6   dlllist.avg_dlls_per_proc               58062 non-null  float64\n",
      " 7   handles.nhandles                        58062 non-null  int64  \n",
      " 8   handles.avg_handles_per_proc            58062 non-null  float64\n",
      " 9   handles.nfile                           58062 non-null  int64  \n",
      " 10  handles.nevent                          58062 non-null  int64  \n",
      " 11  handles.ndesktop                        58062 non-null  int64  \n",
      " 12  handles.nkey                            58062 non-null  int64  \n",
      " 13  handles.nthread                         58062 non-null  int64  \n",
      " 14  handles.ndirectory                      58062 non-null  int64  \n",
      " 15  handles.nsemaphore                      58062 non-null  int64  \n",
      " 16  handles.ntimer                          58062 non-null  int64  \n",
      " 17  handles.nsection                        58062 non-null  int64  \n",
      " 18  handles.nmutant                         58062 non-null  int64  \n",
      " 19  ldrmodules.not_in_load                  58062 non-null  int64  \n",
      " 20  ldrmodules.not_in_init                  58062 non-null  int64  \n",
      " 21  ldrmodules.not_in_mem                   58062 non-null  int64  \n",
      " 22  ldrmodules.not_in_load_avg              58062 non-null  float64\n",
      " 23  ldrmodules.not_in_init_avg              58062 non-null  float64\n",
      " 24  ldrmodules.not_in_mem_avg               58062 non-null  float64\n",
      " 25  malfind.ninjections                     58062 non-null  int64  \n",
      " 26  malfind.commitCharge                    58062 non-null  int64  \n",
      " 27  malfind.protection                      58062 non-null  int64  \n",
      " 28  malfind.uniqueInjections                58062 non-null  float64\n",
      " 29  psxview.not_in_pslist                   58062 non-null  int64  \n",
      " 30  psxview.not_in_eprocess_pool            58062 non-null  int64  \n",
      " 31  psxview.not_in_ethread_pool             58062 non-null  int64  \n",
      " 32  psxview.not_in_pspcid_list              58062 non-null  int64  \n",
      " 33  psxview.not_in_csrss_handles            58062 non-null  int64  \n",
      " 34  psxview.not_in_session                  58062 non-null  int64  \n",
      " 35  psxview.not_in_deskthrd                 58062 non-null  int64  \n",
      " 36  psxview.not_in_pslist_false_avg         58062 non-null  float64\n",
      " 37  psxview.not_in_eprocess_pool_false_avg  58062 non-null  float64\n",
      " 38  psxview.not_in_ethread_pool_false_avg   58062 non-null  float64\n",
      " 39  psxview.not_in_pspcid_list_false_avg    58062 non-null  float64\n",
      " 40  psxview.not_in_csrss_handles_false_avg  58062 non-null  float64\n",
      " 41  psxview.not_in_session_false_avg        58062 non-null  float64\n",
      " 42  psxview.not_in_deskthrd_false_avg       58062 non-null  float64\n",
      " 43  modules.nmodules                        58062 non-null  int64  \n",
      " 44  svcscan.nservices                       58062 non-null  int64  \n",
      " 45  svcscan.kernel_drivers                  58062 non-null  int64  \n",
      " 46  svcscan.fs_drivers                      58062 non-null  int64  \n",
      " 47  svcscan.process_services                58062 non-null  int64  \n",
      " 48  svcscan.shared_process_services         58062 non-null  int64  \n",
      " 49  svcscan.nactive                         58062 non-null  int64  \n",
      " 50  callbacks.ncallbacks                    58062 non-null  int64  \n",
      " 51  callbacks.nanonymous                    58062 non-null  int64  \n",
      " 52  callbacks.ngeneric                      58062 non-null  int64  \n",
      " 53  Class_Malware                           58062 non-null  bool   \n",
      "dtypes: bool(1), float64(15), int64(37), object(1)\n",
      "memory usage: 24.0+ MB\n",
      "None\n",
      "\n",
      "First Few Rows:\n",
      "  Category  pslist.nproc  pslist.nppid  pslist.avg_threads  \\\n",
      "0   Benign            45            17           10.555556   \n",
      "1   Benign            47            19           11.531915   \n",
      "2   Benign            40            14           14.725000   \n",
      "3   Benign            32            13           13.500000   \n",
      "4   Benign            42            16           11.452381   \n",
      "\n",
      "   pslist.avg_handlers  dlllist.ndlls  dlllist.avg_dlls_per_proc  \\\n",
      "0           202.844444           1694                  38.500000   \n",
      "1           242.234043           2074                  44.127660   \n",
      "2           288.225000           1932                  48.300000   \n",
      "3           264.281250           1445                  45.156250   \n",
      "4           281.333333           2067                  49.214286   \n",
      "\n",
      "   handles.nhandles  handles.avg_handles_per_proc  handles.nfile  ...  \\\n",
      "0              9129                    212.302326            670  ...   \n",
      "1             11385                    242.234043            840  ...   \n",
      "2             11529                    288.225000           1050  ...   \n",
      "3              8457                    264.281250            630  ...   \n",
      "4             11816                    281.333333            908  ...   \n",
      "\n",
      "   svcscan.nservices  svcscan.kernel_drivers  svcscan.fs_drivers  \\\n",
      "0                389                     221                  26   \n",
      "1                392                     222                  26   \n",
      "2                395                     222                  26   \n",
      "3                395                     222                  26   \n",
      "4                392                     222                  26   \n",
      "\n",
      "   svcscan.process_services  svcscan.shared_process_services  svcscan.nactive  \\\n",
      "0                        24                              116              121   \n",
      "1                        24                              118              122   \n",
      "2                        27                              118              120   \n",
      "3                        27                              118              120   \n",
      "4                        24                              118              124   \n",
      "\n",
      "   callbacks.ncallbacks  callbacks.nanonymous  callbacks.ngeneric  \\\n",
      "0                    87                     0                   8   \n",
      "1                    87                     0                   8   \n",
      "2                    88                     0                   8   \n",
      "3                    88                     0                   8   \n",
      "4                    87                     0                   8   \n",
      "\n",
      "   Class_Malware  \n",
      "0          False  \n",
      "1          False  \n",
      "2          False  \n",
      "3          False  \n",
      "4          False  \n",
      "\n",
      "[5 rows x 54 columns]\n"
     ]
    }
   ],
   "source": [
    "# Data Sanity Check\n",
    "print(\"\\nData Info:\")\n",
    "print(df.info())\n",
    "print(\"\\nFirst Few Rows:\")\n",
    "print(df.head())"
   ]
  },
  {
   "cell_type": "code",
   "execution_count": 49,
   "metadata": {
    "colab": {
     "base_uri": "https://localhost:8080/"
    },
    "id": "mNk7VvnDeD5j",
    "outputId": "a50dcb35-5602-4a8c-82f9-06f41af5a300"
   },
   "outputs": [
    {
     "name": "stdout",
     "output_type": "stream",
     "text": [
      "DataFrame Shape: (58062, 54)\n",
      "Class Distribution: Class_Malware\n",
      "False    29231\n",
      "True     28831\n",
      "Name: count, dtype: int64\n"
     ]
    }
   ],
   "source": [
    "print(\"DataFrame Shape:\", df.shape)\n",
    "print(\"Class Distribution:\", df[\"Class_Malware\"].value_counts())"
   ]
  },
  {
   "cell_type": "code",
   "execution_count": 50,
   "metadata": {
    "colab": {
     "base_uri": "https://localhost:8080/"
    },
    "id": "Vz5vQdxAeD5j",
    "outputId": "4319fb88-6ba0-4862-df32-7f96e881fb71"
   },
   "outputs": [
    {
     "name": "stdout",
     "output_type": "stream",
     "text": [
      "Number of Missing Values:\n",
      "Category                                  0\n",
      "pslist.nproc                              0\n",
      "pslist.nppid                              0\n",
      "pslist.avg_threads                        0\n",
      "pslist.avg_handlers                       0\n",
      "dlllist.ndlls                             0\n",
      "dlllist.avg_dlls_per_proc                 0\n",
      "handles.nhandles                          0\n",
      "handles.avg_handles_per_proc              0\n",
      "handles.nfile                             0\n",
      "handles.nevent                            0\n",
      "handles.ndesktop                          0\n",
      "handles.nkey                              0\n",
      "handles.nthread                           0\n",
      "handles.ndirectory                        0\n",
      "handles.nsemaphore                        0\n",
      "handles.ntimer                            0\n",
      "handles.nsection                          0\n",
      "handles.nmutant                           0\n",
      "ldrmodules.not_in_load                    0\n",
      "ldrmodules.not_in_init                    0\n",
      "ldrmodules.not_in_mem                     0\n",
      "ldrmodules.not_in_load_avg                0\n",
      "ldrmodules.not_in_init_avg                0\n",
      "ldrmodules.not_in_mem_avg                 0\n",
      "malfind.ninjections                       0\n",
      "malfind.commitCharge                      0\n",
      "malfind.protection                        0\n",
      "malfind.uniqueInjections                  0\n",
      "psxview.not_in_pslist                     0\n",
      "psxview.not_in_eprocess_pool              0\n",
      "psxview.not_in_ethread_pool               0\n",
      "psxview.not_in_pspcid_list                0\n",
      "psxview.not_in_csrss_handles              0\n",
      "psxview.not_in_session                    0\n",
      "psxview.not_in_deskthrd                   0\n",
      "psxview.not_in_pslist_false_avg           0\n",
      "psxview.not_in_eprocess_pool_false_avg    0\n",
      "psxview.not_in_ethread_pool_false_avg     0\n",
      "psxview.not_in_pspcid_list_false_avg      0\n",
      "psxview.not_in_csrss_handles_false_avg    0\n",
      "psxview.not_in_session_false_avg          0\n",
      "psxview.not_in_deskthrd_false_avg         0\n",
      "modules.nmodules                          0\n",
      "svcscan.nservices                         0\n",
      "svcscan.kernel_drivers                    0\n",
      "svcscan.fs_drivers                        0\n",
      "svcscan.process_services                  0\n",
      "svcscan.shared_process_services           0\n",
      "svcscan.nactive                           0\n",
      "callbacks.ncallbacks                      0\n",
      "callbacks.nanonymous                      0\n",
      "callbacks.ngeneric                        0\n",
      "Class_Malware                             0\n",
      "dtype: int64\n"
     ]
    }
   ],
   "source": [
    "# Print the number of missing values\n",
    "print(\"Number of Missing Values:\")\n",
    "print(df.isnull().sum())"
   ]
  },
  {
   "cell_type": "markdown",
   "metadata": {
    "id": "xfPnymtQ2Yj0"
   },
   "source": [
    "## Feature extraction"
   ]
  },
  {
   "cell_type": "code",
   "execution_count": 51,
   "metadata": {},
   "outputs": [],
   "source": [
    "def categorize_malware(s):\n",
    "    if s == \"Benign\":\n",
    "        return \"Benign\"\n",
    "    else:\n",
    "        primary_type = s.split(\"-\")[0]\n",
    "        return primary_type"
   ]
  },
  {
   "cell_type": "code",
   "execution_count": 52,
   "metadata": {},
   "outputs": [],
   "source": [
    "from sklearn.decomposition import PCA\n",
    "import matplotlib.pyplot as plt\n",
    "\n",
    "# Separate features and target\n",
    "#y = df[\"Category\"].apply(categorize_malware)\n",
    "\n",
    "y = df[\"Class_Malware\"]\n",
    "X = df.drop(columns=[\"Category\", \"Class_Malware\"])"
   ]
  },
  {
   "cell_type": "code",
   "execution_count": 53,
   "metadata": {},
   "outputs": [
    {
     "data": {
      "text/plain": [
       "0        False\n",
       "1        False\n",
       "2        False\n",
       "3        False\n",
       "4        False\n",
       "         ...  \n",
       "58591     True\n",
       "58592     True\n",
       "58593     True\n",
       "58594     True\n",
       "58595     True\n",
       "Name: Class_Malware, Length: 58062, dtype: bool"
      ]
     },
     "execution_count": 53,
     "metadata": {},
     "output_type": "execute_result"
    }
   ],
   "source": [
    "# from sklearn.preprocessing import LabelEncoder\n",
    "\n",
    "# label_encoder = LabelEncoder()\n",
    "# y = label_encoder.fit_transform(y)\n",
    "y"
   ]
  },
  {
   "cell_type": "code",
   "execution_count": 54,
   "metadata": {
    "id": "M4YwpSgfeD5k"
   },
   "outputs": [],
   "source": [
    "# import matplotlib.pyplot as plt\n",
    "from sklearn.preprocessing import StandardScaler\n",
    "\n",
    "# Standardize your features (recommended before PCA)\n",
    "scaler = StandardScaler()\n",
    "X_scaled = scaler.fit_transform(X)"
   ]
  },
  {
   "cell_type": "code",
   "execution_count": 55,
   "metadata": {
    "colab": {
     "base_uri": "https://localhost:8080/",
     "height": 449
    },
    "id": "mIXpE8KYeD5k",
    "outputId": "c1976440-b923-4b60-da8d-b530de2870e6",
    "scrolled": true
   },
   "outputs": [
    {
     "data": {
      "image/png": "[encoded data removed]",
      "text/plain": [
       "<Figure size 640x480 with 1 Axes>"
      ]
     },
     "metadata": {},
     "output_type": "display_data"
    }
   ],
   "source": [
    "# Apply PCA for feature extraction\n",
    "pca = PCA()\n",
    "X_pca = pca.fit_transform(X_scaled)\n",
    "\n",
    "# Calculate explained variance ratios\n",
    "explained_variance_ratio = pca.explained_variance_ratio_\n",
    "\n",
    "# Plot cumulative explained variance ratio\n",
    "cumulative_variance_ratio = np.cumsum(explained_variance_ratio)\n",
    "plt.plot(cumulative_variance_ratio)\n",
    "plt.xlabel('Number of Principal Components')\n",
    "plt.ylabel('Cumulative Explained Variance Ratio')\n",
    "plt.grid(True)\n",
    "plt.show()"
   ]
  },
  {
   "cell_type": "code",
   "execution_count": 56,
   "metadata": {
    "colab": {
     "base_uri": "https://localhost:8080/"
    },
    "id": "DUcHZDVNeD5k",
    "outputId": "928fa7d0-48bb-4cd9-9190-71d51abf4fe3"
   },
   "outputs": [
    {
     "name": "stdout",
     "output_type": "stream",
     "text": [
      "Number of components to retain for 95% variance: 14\n"
     ]
    }
   ],
   "source": [
    "# Determine the number of components to retain (e.g., capturing 95% of variance)\n",
    "n_components = np.argmax(cumulative_variance_ratio >= 0.95) + 1\n",
    "print(f\"Number of components to retain for 95% variance: {n_components}\")\n",
    "\n",
    "# Now you can perform PCA with the selected number of components\n",
    "pca = PCA(n_components=n_components)\n",
    "X_pca = pca.fit_transform(X_scaled)"
   ]
  },
  {
   "cell_type": "code",
   "execution_count": 57,
   "metadata": {
    "colab": {
     "base_uri": "https://localhost:8080/"
    },
    "id": "WKuYC7kzeD5k",
    "outputId": "0aa6eb8d-dc57-4f22-d77b-64badb4bc3f9"
   },
   "outputs": [
    {
     "name": "stdout",
     "output_type": "stream",
     "text": [
      "Explained Variance Ratios: [0.28151527 0.20510294 0.07664082 0.07252969 0.06728464 0.04859866\n",
      " 0.03683036 0.03538662 0.03003356 0.02688908 0.02002998 0.01934825\n",
      " 0.01767585 0.01302292]\n"
     ]
    }
   ],
   "source": [
    "# Visualize the explained variance ratio\n",
    "explained_variance_ratio = pca.explained_variance_ratio_\n",
    "print(\"Explained Variance Ratios:\", explained_variance_ratio)"
   ]
  },
  {
   "cell_type": "code",
   "execution_count": 58,
   "metadata": {
    "colab": {
     "base_uri": "https://localhost:8080/",
     "height": 564
    },
    "id": "jSRHQtQFeD5k",
    "outputId": "c13e93ee-ec60-4645-950d-c4cba0b7c4a4"
   },
   "outputs": [
    {
     "data": {
      "image/png": "[encoded data removed]",
      "text/plain": [
       "<Figure size 1000x600 with 1 Axes>"
      ]
     },
     "metadata": {},
     "output_type": "display_data"
    }
   ],
   "source": [
    "# Plot explained variance ratios for the first 10 components\n",
    "plt.figure(figsize=(10, 6))\n",
    "plt.bar(range(1, len(explained_variance_ratio) + 1), explained_variance_ratio)\n",
    "plt.xlabel('Principal Component')\n",
    "plt.ylabel('Explained Variance Ratio')\n",
    "plt.title('Explained Variance Ratio for the First 10 Principal Components')\n",
    "plt.grid(True)\n",
    "plt.show()"
   ]
  },
  {
   "cell_type": "code",
   "execution_count": 26,
   "metadata": {
    "_kg_hide-input": true,
    "colab": {
     "base_uri": "https://localhost:8080/"
    },
    "id": "k7GzOWyyeD5k",
    "outputId": "0bbd42be-1eee-45e3-c953-e818ab21e073"
   },
   "outputs": [
    {
     "name": "stderr",
     "output_type": "stream",
     "text": [
      "C:\\Users\\okore\\AppData\\Local\\Programs\\Python\\Python312\\Lib\\site-packages\\sklearn\\manifold\\_t_sne.py:1164: FutureWarning: 'n_iter' was renamed to 'max_iter' in version 1.5 and will be removed in 1.7.\n",
      "  warnings.warn(\n"
     ]
    }
   ],
   "source": [
    "from sklearn.manifold import TSNE\n",
    "\n",
    "# Feature extraction using t-SNE\n",
    "tsne = TSNE(n_components=2, perplexity=30, n_iter=300)\n",
    "X_tsne = tsne.fit_transform(X_scaled)"
   ]
  },
  {
   "cell_type": "code",
   "execution_count": 27,
   "metadata": {
    "id": "AxUnIITLeD5k"
   },
   "outputs": [
    {
     "name": "stdout",
     "output_type": "stream",
     "text": [
      "[[ -4.092302     1.7104058 ]\n",
      " [  2.9627016    7.0036163 ]\n",
      " [ -0.15436384 -12.260448  ]\n",
      " ...\n",
      " [ -8.2837      -2.9186282 ]\n",
      " [ -8.177229   -10.752214  ]\n",
      " [-16.094156     0.48454884]]\n"
     ]
    }
   ],
   "source": [
    "print(X_tsne)"
   ]
  },
  {
   "cell_type": "code",
   "execution_count": 28,
   "metadata": {
    "id": "1xVcmhEWeD5k"
   },
   "outputs": [],
   "source": [
    "from sklearn.discriminant_analysis import LinearDiscriminantAnalysis as LDA\n",
    "\n",
    "# # Feature extraction using LDA\n",
    "lda = LDA(n_components=1)\n",
    "X_lda = lda.fit_transform(X_scaled, y)"
   ]
  },
  {
   "cell_type": "code",
   "execution_count": 29,
   "metadata": {
    "id": "bzKuogJfeD5k"
   },
   "outputs": [
    {
     "data": {
      "text/plain": [
       "array([[ 3.72722886],\n",
       "       [-1.09992324],\n",
       "       [-8.27460227],\n",
       "       ...,\n",
       "       [ 4.15349867],\n",
       "       [ 4.42348741],\n",
       "       [ 4.20224889]])"
      ]
     },
     "execution_count": 29,
     "metadata": {},
     "output_type": "execute_result"
    }
   ],
   "source": [
    "X_lda"
   ]
  },
  {
   "cell_type": "code",
   "execution_count": 130,
   "metadata": {
    "id": "_rn1iDbUeD5l"
   },
   "outputs": [
    {
     "name": "stdout",
     "output_type": "stream",
     "text": [
      "[False  True]\n"
     ]
    }
   ],
   "source": [
    "print(df[\"Class_Malware\"].unique())"
   ]
  },
  {
   "cell_type": "code",
   "execution_count": 131,
   "metadata": {
    "id": "h-jtD4cemKHg"
   },
   "outputs": [
    {
     "data": {
      "image/png": "[encoded data removed]",
      "text/plain": [
       "<Figure size 1500x500 with 3 Axes>"
      ]
     },
     "metadata": {},
     "output_type": "display_data"
    }
   ],
   "source": [
    "import matplotlib.pyplot as plt\n",
    "\n",
    "# Create subplots for side-by-side comparison\n",
    "fig, axes = plt.subplots(1, 3, figsize=(15, 5))\n",
    "\n",
    "# Plot PCA\n",
    "axes[0].scatter(X_pca[y == 0, 0], X_pca[y == 0, 1], label=\"Benign\", color=\"blue\", alpha=0.5)\n",
    "axes[0].scatter(X_pca[y == 1, 0], X_pca[y == 1, 1], label=\"Malicious\", color=\"red\", alpha=0.5)\n",
    "axes[0].set_title(\"PCA\")\n",
    "axes[0].legend()\n",
    "\n",
    "# Plot t-SNE\n",
    "axes[1].scatter(X_tsne[y == 0, 0], X_tsne[y == 0, 1], label=\"Benign\", color=\"blue\", alpha=0.5)\n",
    "axes[1].scatter(X_tsne[y == 1, 0], X_tsne[y == 1, 1], label=\"Malicious\", color=\"red\", alpha=0.5)\n",
    "axes[1].set_title(\"t-SNE\")\n",
    "axes[1].legend()\n",
    "\n",
    "# Plot LDA\n",
    "axes[2].scatter(X_lda[y == 0, 0], X_lda[y == 0, 0], label=\"Benign\", color=\"blue\", alpha=0.5)\n",
    "axes[2].scatter(X_lda[y == 1, 0], X_lda[y == 1, 0], label=\"Malicious\", color=\"red\", alpha=0.5)\n",
    "axes[2].set_title(\"LDA\")\n",
    "axes[2].legend()\n",
    "\n",
    "plt.show()"
   ]
  },
  {
   "cell_type": "markdown",
   "metadata": {
    "id": "_dQEgntoeD5l"
   },
   "source": [
    "### XGBOOST Train an Initial XGBoost Model"
   ]
  },
  {
   "cell_type": "code",
   "execution_count": 59,
   "metadata": {
    "id": "_nztn_fxeD5l"
   },
   "outputs": [],
   "source": [
    "# Import necessary libraries\n",
    "import numpy as np\n",
    "import pandas as pd\n",
    "import xgboost as xgb\n",
    "from sklearn.model_selection import train_test_split\n",
    "from sklearn.metrics import accuracy_score\n",
    "from sklearn.preprocessing import StandardScaler\n",
    "\n",
    "# Split the dataset into training and testing sets\n",
    "X_train, X_test, y_train, y_test = train_test_split(X, y, test_size=0.3, random_state=7)\n",
    "\n",
    "# XGBoost for Feature Extraction\n",
    "xgb_model = xgb.XGBClassifier()\n",
    "xgb_model.fit(X_train, y_train)\n",
    "\n",
    "# Use the trained XGBoost model to get feature importances\n",
    "feature_importances = xgb_model.feature_importances_\n",
    "\n",
    "# Select the top N important features\n",
    "N = 14  # Change this value based on the number of features you want to select\n",
    "selected_feature_indices = np.argsort(feature_importances)[::-1][:N]\n",
    "selected_features = X.columns[selected_feature_indices]\n",
    "\n",
    "# Subset the dataset with the selected features\n",
    "X_train_selected = X_train.iloc[:, selected_feature_indices]\n",
    "X_test_selected = X_test.iloc[:, selected_feature_indices]"
   ]
  },
  {
   "cell_type": "code",
   "execution_count": 60,
   "metadata": {},
   "outputs": [
    {
     "name": "stdout",
     "output_type": "stream",
     "text": [
      "Accuracy: 0.9983925598484413\n",
      "              precision    recall  f1-score   support\n",
      "\n",
      "       False       1.00      1.00      1.00      8803\n",
      "        True       1.00      1.00      1.00      8616\n",
      "\n",
      "    accuracy                           1.00     17419\n",
      "   macro avg       1.00      1.00      1.00     17419\n",
      "weighted avg       1.00      1.00      1.00     17419\n",
      "\n"
     ]
    }
   ],
   "source": [
    "from sklearn.metrics import accuracy_score, classification_report\n",
    "\n",
    "selected_cols = [\"svcscan.nservices\",\"svcscan.process_services\"]\n",
    "\n",
    "# Normalize the data\n",
    "scaler = StandardScaler()\n",
    "X_train_select_2 = scaler.fit_transform(X_train[selected_cols])\n",
    "X_test_select_2 = scaler.transform(X_test[selected_cols])\n",
    "\n",
    "xgb_model_selected = xgb.XGBClassifier()\n",
    "xgb_model_selected.fit(X_train_select_2, y_train)\n",
    "\n",
    "y_pred = xgb_model_selected.predict(X_test_select_2)\n",
    "\n",
    "print(\"Accuracy:\", accuracy_score(y_test, y_pred))\n",
    "print(classification_report(y_test, y_pred, zero_division=0))"
   ]
  },
  {
   "cell_type": "code",
   "execution_count": 61,
   "metadata": {},
   "outputs": [],
   "source": [
    "# ann = MLPClassifier(\n",
    "#     hidden_layer_sizes=(150, 60,10),\n",
    "#     activation='logistic',\n",
    "#     solver='sgd',\n",
    "#     max_iter=500,\n",
    "#     random_state=42\n",
    "# )\n",
    "# ann.fit(X_train_selected, y_train)\n",
    "\n",
    "# # Evaluate\n",
    "# y_pred = ann.predict(X_test_selected)\n",
    "# print(\"Accuracy:\", accuracy_score(y_test, y_pred))\n",
    "# print(classification_report(y_test, y_pred, zero_division=0))"
   ]
  },
  {
   "cell_type": "markdown",
   "metadata": {
    "id": "CyYNEoXOeD5l"
   },
   "source": [
    "### Feature Importance Scores"
   ]
  },
  {
   "cell_type": "markdown",
   "metadata": {
    "id": "AkhRFYsjeD5l"
   },
   "source": [
    "### Sort and Visualize Feature Importances"
   ]
  },
  {
   "cell_type": "code",
   "execution_count": 62,
   "metadata": {
    "id": "4JqDQVpFeD5l"
   },
   "outputs": [
    {
     "data": {
      "image/png": "[encoded data removed]",
      "text/plain": [
       "<Figure size 1000x600 with 1 Axes>"
      ]
     },
     "metadata": {},
     "output_type": "display_data"
    }
   ],
   "source": [
    "# Sort and visualize feature importances\n",
    "N = 14  # Number of top features to select\n",
    "sorted_indices = np.argsort(feature_importances)[::-1]\n",
    "selected_features = X.columns[sorted_indices[:N]]\n",
    "\n",
    "plt.figure(figsize=(10, 6))\n",
    "plt.bar(selected_features, feature_importances[sorted_indices[:N]])\n",
    "plt.title('Top Feature Importance')\n",
    "plt.xlabel('Features')\n",
    "plt.ylabel('Importance')\n",
    "plt.xticks(rotation=45)\n",
    "plt.show()\n"
   ]
  },
  {
   "cell_type": "code",
   "execution_count": 63,
   "metadata": {},
   "outputs": [
    {
     "data": {
      "text/plain": [
       "Index(['svcscan.shared_process_services', 'psxview.not_in_deskthrd',\n",
       "       'handles.ndesktop', 'pslist.avg_handlers', 'svcscan.nservices',\n",
       "       'handles.avg_handles_per_proc', 'callbacks.ncallbacks',\n",
       "       'malfind.commitCharge', 'handles.ndirectory', 'handles.nevent',\n",
       "       'ldrmodules.not_in_load_avg', 'dlllist.avg_dlls_per_proc',\n",
       "       'malfind.protection', 'psxview.not_in_session_false_avg'],\n",
       "      dtype='object')"
      ]
     },
     "execution_count": 63,
     "metadata": {},
     "output_type": "execute_result"
    }
   ],
   "source": [
    "selected_features"
   ]
  },
  {
   "cell_type": "code",
   "execution_count": 64,
   "metadata": {},
   "outputs": [
    {
     "name": "stdout",
     "output_type": "stream",
     "text": [
      "Saved XGBoost to .\\xgb_model.pkl\n"
     ]
    }
   ],
   "source": [
    "import os\n",
    "import joblib\n",
    "# XGBoost Model\n",
    "xgb_model = os.path.join('.', 'xgb_model.pkl')\n",
    "joblib.dump({'scaler': scaler, 'model': xgb_model_selected}, 'xgb_model.pkl')\n",
    "\n",
    "print(f\"Saved XGBoost to {xgb_model}\")"
   ]
  },
  {
   "cell_type": "code",
   "execution_count": 65,
   "metadata": {},
   "outputs": [
    {
     "name": "stdout",
     "output_type": "stream",
     "text": [
      "[[9.0277195e-04 9.9909723e-01]]\n",
      "[1]\n"
     ]
    }
   ],
   "source": [
    "from joblib import load\n",
    "import pandas as pd\n",
    "\n",
    "# Load the saved model\n",
    "saved_model = load('xgb_model.pkl') \n",
    "\n",
    "scaler = saved_model['scaler']\n",
    "model = saved_model['model']\n",
    "\n",
    "data = {'svcscan.nservices': 1421, 'svcscan.process_services': 97}\n",
    "data_df = pd.DataFrame([data])\n",
    "\n",
    "#X_new_scaled = scaler.transform(X_new)  # Scale new data\n",
    "#predictions = model.predict(X_new_scaled)\n",
    "\n",
    "# Predict class probabilities (for classification)\n",
    "probabilities = model.predict_proba(data_df)\n",
    "print(probabilities)\n",
    "\n",
    "# Predict class labels (classification)\n",
    "predictions = model.predict(data_df)\n",
    "print(predictions)\n",
    "# print(\"Accuracy:\", accuracy_score(y_test, predictions))\n",
    "# print(classification_report(y_test, predictions, zero_division=0))"
   ]
  },
  {
   "cell_type": "markdown",
   "metadata": {
    "id": "g0DGbBGmzwl2"
   },
   "source": [
    "# Deep Learning RNN"
   ]
  },
  {
   "cell_type": "code",
   "execution_count": null,
   "metadata": {
    "execution": {
     "iopub.execute_input": "2023-10-28T23:47:17.087995Z",
     "iopub.status.busy": "2023-10-28T23:47:17.086914Z",
     "iopub.status.idle": "2023-10-28T23:47:17.134963Z",
     "shell.execute_reply": "2023-10-28T23:47:17.134135Z",
     "shell.execute_reply.started": "2023-10-28T23:47:17.08795Z"
    },
    "id": "C8wP_D3jeD5m"
   },
   "outputs": [],
   "source": [
    "import torch\n",
    "\n",
    "# Split the data into training and testing sets\n",
    "# X_train, X_test, y_train_encoded, y_test_encoded = train_test_split(X_train_selected, y_train_encoded, test_size=0.2, random_state=42)\n",
    "\n",
    "# Convert the data to PyTorch tensors\n",
    "X_train_tensor = torch.from_numpy(X_train_selected).float()\n",
    "y_train_tensor = torch.from_numpy(y_train.values).long()\n",
    "X_test_tensor = torch.from_numpy(X_test_selected ).float()\n",
    "y_test_tensor = torch.from_numpy(y_test.values).long()\n",
    "\n",
    "# Print the shapes of the tensors\n",
    "print(\"X_train_tensor shape:\", X_train_tensor.shape)\n",
    "print(\"y_train_tensor shape:\", y_train_tensor.shape)\n",
    "print(\"X_test_tensor shape:\", X_test_tensor.shape)\n",
    "print(\"y_test_tensor shape:\", y_test_tensor.shape)\n"
   ]
  },
  {
   "cell_type": "code",
   "execution_count": null,
   "metadata": {
    "execution": {
     "iopub.execute_input": "2023-10-28T23:47:17.13723Z",
     "iopub.status.busy": "2023-10-28T23:47:17.135977Z",
     "iopub.status.idle": "2023-10-28T23:47:17.141143Z",
     "shell.execute_reply": "2023-10-28T23:47:17.140329Z",
     "shell.execute_reply.started": "2023-10-28T23:47:17.137194Z"
    },
    "id": "9ZBMLbksLt6A"
   },
   "outputs": [],
   "source": [
    "import torch\n",
    "import torch.nn as nn\n",
    "import torch.optim as optim\n",
    "import torch.utils.data as data\n",
    "import numpy as np"
   ]
  },
  {
   "cell_type": "markdown",
   "metadata": {
    "id": "X6jEuY6ZL3On"
   },
   "source": [
    "## Define the deep learning model"
   ]
  },
  {
   "cell_type": "code",
   "execution_count": null,
   "metadata": {
    "execution": {
     "iopub.execute_input": "2023-10-28T23:47:17.143176Z",
     "iopub.status.busy": "2023-10-28T23:47:17.14231Z",
     "iopub.status.idle": "2023-10-28T23:47:17.155944Z",
     "shell.execute_reply": "2023-10-28T23:47:17.154827Z",
     "shell.execute_reply.started": "2023-10-28T23:47:17.143137Z"
    },
    "id": "FKIKRmiHL2UT"
   },
   "outputs": [],
   "source": [
    "# class MalwareDetector(nn.Module):\n",
    "#     def __init__(self, input_size, hidden_size, output_size):\n",
    "#         super(MalwareDetector, self).__init__()\n",
    "#         self.rnn = nn.RNN(input_size, hidden_size, batch_first=True)\n",
    "#         self.fc = nn.Linear(hidden_size, output_size)\n",
    "\n",
    "#     def forward(self, x):\n",
    "#         out, _ = self.rnn(x)\n",
    "#         print(\"Shape of out:\", out.shape)  # Print the shape of the out tensor\n",
    "#         last_output = out[:, -1, :]  # Get the output from the last time step\n",
    "#         out = self.fc(last_output)\n",
    "#         return out\n",
    "\n",
    "#     def forward(self, x):\n",
    "#         out, _ = self.rnn(x)\n",
    "#         out = self.fc(out[:, -1, :])  # Get the last output of the RNN\n",
    "#         return out\n",
    "class MalwareDetector(nn.Module):\n",
    "    def __init__(self, input_size, hidden_size, output_size):\n",
    "        super(MalwareDetector, self).__init__()\n",
    "        self.rnn = nn.RNN(input_size, hidden_size, batch_first=True)\n",
    "        self.fc = nn.Linear(hidden_size, output_size)\n",
    "\n",
    "    def forward(self, x):\n",
    "        x = x.unsqueeze(1)  # Add a time step dimension\n",
    "        out, _ = self.rnn(x)\n",
    "        last_output = out[:, -1, :]  # Get the output from the last time step\n",
    "        out = self.fc(last_output)\n",
    "        return out"
   ]
  },
  {
   "cell_type": "markdown",
   "metadata": {
    "id": "7ayZubuTL8r6"
   },
   "source": [
    "## Initialize the model"
   ]
  },
  {
   "cell_type": "code",
   "execution_count": null,
   "metadata": {
    "execution": {
     "iopub.execute_input": "2023-10-28T23:47:17.157968Z",
     "iopub.status.busy": "2023-10-28T23:47:17.157653Z",
     "iopub.status.idle": "2023-10-28T23:47:17.189576Z",
     "shell.execute_reply": "2023-10-28T23:47:17.188579Z",
     "shell.execute_reply.started": "2023-10-28T23:47:17.15794Z"
    },
    "id": "C_v3gtaJL9Ss"
   },
   "outputs": [],
   "source": [
    "# input_size = len(X_train[0])\n",
    "# hidden_size = 128\n",
    "# output_size = 2  # 2 classes: benign and malicious\n",
    "# model = MalwareDetector(input_size, hidden_size, output_size)\n",
    "# Create an instance of your model\n",
    "input_size = X_train_tensor.shape[1]  # Number of features\n",
    "hidden_size = 64  # Number of hidden units\n",
    "output_size = 2  # Number of classes\n",
    "model = MalwareDetector(input_size, hidden_size, output_size)"
   ]
  },
  {
   "cell_type": "markdown",
   "metadata": {
    "id": "EeWe5S5nMNwU"
   },
   "source": [
    "## Define loss function and optimizer"
   ]
  },
  {
   "cell_type": "code",
   "execution_count": null,
   "metadata": {
    "execution": {
     "iopub.execute_input": "2023-10-28T23:47:17.192183Z",
     "iopub.status.busy": "2023-10-28T23:47:17.191098Z",
     "iopub.status.idle": "2023-10-28T23:47:17.197763Z",
     "shell.execute_reply": "2023-10-28T23:47:17.196752Z",
     "shell.execute_reply.started": "2023-10-28T23:47:17.192143Z"
    },
    "id": "B60wZ2j7MOZ_"
   },
   "outputs": [],
   "source": [
    "criterion = nn.CrossEntropyLoss()\n",
    "optimizer = optim.Adam(model.parameters(), lr=0.001)"
   ]
  },
  {
   "cell_type": "markdown",
   "metadata": {
    "id": "Fl7Xp_NXMavp"
   },
   "source": [
    "## Create a PyTorch DataLoader for training and testing"
   ]
  },
  {
   "cell_type": "code",
   "execution_count": null,
   "metadata": {
    "execution": {
     "iopub.execute_input": "2023-10-28T23:47:17.19981Z",
     "iopub.status.busy": "2023-10-28T23:47:17.19915Z",
     "iopub.status.idle": "2023-10-28T23:47:17.215294Z",
     "shell.execute_reply": "2023-10-28T23:47:17.214364Z",
     "shell.execute_reply.started": "2023-10-28T23:47:17.199781Z"
    },
    "id": "gsbnd1yLeD5v"
   },
   "outputs": [],
   "source": [
    "# Move the model to a device\n",
    "device = torch.device(\"cuda\" if torch.cuda.is_available() else \"cpu\")\n",
    "model.to(device)"
   ]
  },
  {
   "cell_type": "code",
   "execution_count": null,
   "metadata": {
    "execution": {
     "iopub.execute_input": "2023-10-28T23:47:17.217349Z",
     "iopub.status.busy": "2023-10-28T23:47:17.216658Z",
     "iopub.status.idle": "2023-10-28T23:47:17.224477Z",
     "shell.execute_reply": "2023-10-28T23:47:17.223462Z",
     "shell.execute_reply.started": "2023-10-28T23:47:17.217319Z"
    },
    "id": "5B-7S9DnMY2j"
   },
   "outputs": [],
   "source": [
    "train_dataset = data.TensorDataset(X_train_tensor, y_train_tensor)\n",
    "train_loader = data.DataLoader(train_dataset, batch_size=32, shuffle=True)\n",
    "test_dataset = data.TensorDataset(X_test_tensor, y_test_tensor)\n",
    "test_loader = data.DataLoader(test_dataset, batch_size=32, shuffle=False)"
   ]
  },
  {
   "cell_type": "markdown",
   "metadata": {
    "id": "cPgxUGsNMohX"
   },
   "source": [
    "## Training loop"
   ]
  },
  {
   "cell_type": "code",
   "execution_count": null,
   "metadata": {
    "execution": {
     "iopub.execute_input": "2023-10-28T23:47:17.226359Z",
     "iopub.status.busy": "2023-10-28T23:47:17.22582Z",
     "iopub.status.idle": "2023-10-28T23:47:39.070401Z",
     "shell.execute_reply": "2023-10-28T23:47:39.069158Z",
     "shell.execute_reply.started": "2023-10-28T23:47:17.22633Z"
    },
    "id": "abVHlQstMmKQ"
   },
   "outputs": [],
   "source": [
    "import torch\n",
    "from sklearn.metrics import roc_auc_score\n",
    "from sklearn.metrics import accuracy_score\n",
    "\n",
    "# Initialize lists to store metrics\n",
    "train_losses = []\n",
    "train_accuracies = []\n",
    "train_auc_scores = []\n",
    "test_losses = []\n",
    "test_accuracies = []\n",
    "test_auc_scores = []\n",
    "\n",
    "epochs = 10\n",
    "for epoch in range(epochs):\n",
    "    model.train()\n",
    "    train_loss_sum = 0.0\n",
    "    num_correct_train = 0\n",
    "    num_samples_train = 0\n",
    "    y_true_train = []\n",
    "    y_pred_train = []\n",
    "\n",
    "    for inputs, labels in train_loader:\n",
    "        inputs, labels = inputs.to(device), labels.to(device)\n",
    "\n",
    "        optimizer.zero_grad()\n",
    "        outputs = model(inputs)\n",
    "        loss = criterion(outputs, labels)\n",
    "        loss.backward()\n",
    "        optimizer.step()\n",
    "\n",
    "        _, predictions = torch.max(outputs, 1)\n",
    "        num_correct_train += (predictions == labels).sum().item()\n",
    "        num_samples_train += labels.size(0)\n",
    "        y_true_train.extend(labels.cpu().numpy())\n",
    "        y_pred_train.extend(predictions.cpu().numpy())\n",
    "\n",
    "        train_loss_sum += loss.item()\n",
    "\n",
    "    # Calculate training accuracy and AUC\n",
    "    train_accuracy = num_correct_train / num_samples_train\n",
    "    train_auc = roc_auc_score(y_true_train, y_pred_train)\n",
    "\n",
    "    # Calculate average training loss\n",
    "    average_train_loss = train_loss_sum / len(train_loader)\n",
    "\n",
    "    # Evaluate on the testing dataset\n",
    "    model.eval()\n",
    "    test_loss_sum = 0.0\n",
    "    num_correct_test = 0\n",
    "    num_samples_test = 0\n",
    "    y_true_test = []\n",
    "    y_pred_test = []\n",
    "\n",
    "    with torch.no_grad():\n",
    "        for inputs, labels in test_loader:\n",
    "            inputs, labels = inputs.to(device), labels.to(device)\n",
    "\n",
    "            outputs = model(inputs)\n",
    "            loss = criterion(outputs, labels)\n",
    "\n",
    "            _, predictions = torch.max(outputs, 1)\n",
    "            num_correct_test += (predictions == labels).sum().item()\n",
    "            num_samples_test += labels.size(0)\n",
    "            y_true_test.extend(labels.cpu().numpy())\n",
    "            y_pred_test.extend(predictions.cpu().numpy())\n",
    "\n",
    "            test_loss_sum += loss.item()\n",
    "\n",
    "    # Calculate testing accuracy and AUC\n",
    "    test_accuracy = num_correct_test / num_samples_test\n",
    "    test_auc = roc_auc_score(y_true_test, y_pred_test)\n",
    "\n",
    "    # Calculate average testing loss\n",
    "    average_test_loss = test_loss_sum / len(test_loader)\n",
    "\n",
    "    # Print epoch-wise metrics\n",
    "    print(f\"Epoch [{epoch+1}/{epochs}] - \"\n",
    "          f\"Train Loss: {average_train_loss:.4f} - \"\n",
    "          f\"Train Acc: {train_accuracy:.4f} - \"\n",
    "          f\"Train AUC: {train_auc:.4f} - \"\n",
    "          f\"Test Loss: {average_test_loss:.4f} - \"\n",
    "          f\"Test Acc: {test_accuracy:.4f} - \"\n",
    "          f\"Test AUC: {test_auc:.4f}\")\n",
    "\n",
    "    # Store metrics for later analysis or plotting\n",
    "    train_losses.append(average_train_loss)\n",
    "    train_accuracies.append(train_accuracy)\n",
    "    train_auc_scores.append(train_auc)\n",
    "    test_losses.append(average_test_loss)\n",
    "    test_accuracies.append(test_accuracy)\n",
    "    test_auc_scores.append(test_auc)\n",
    "\n",
    "print(\"Training finished.\")"
   ]
  },
  {
   "cell_type": "markdown",
   "metadata": {
    "id": "rcKff_DrMsYt"
   },
   "source": [
    "## Evaluation"
   ]
  },
  {
   "cell_type": "code",
   "execution_count": null,
   "metadata": {
    "execution": {
     "iopub.execute_input": "2023-10-28T23:47:39.072395Z",
     "iopub.status.busy": "2023-10-28T23:47:39.07196Z",
     "iopub.status.idle": "2023-10-28T23:47:39.430136Z",
     "shell.execute_reply": "2023-10-28T23:47:39.429388Z",
     "shell.execute_reply.started": "2023-10-28T23:47:39.072346Z"
    },
    "id": "dAVJ-imWMrjx"
   },
   "outputs": [],
   "source": [
    "from sklearn.metrics import classification_report, confusion_matrix\n",
    "\n",
    "model.eval()\n",
    "correct = 0\n",
    "total = 0\n",
    "all_predicted = []\n",
    "all_labels = []\n",
    "\n",
    "with torch.no_grad():\n",
    "    for inputs, labels in test_loader:\n",
    "        outputs = model(inputs)\n",
    "        _, predicted = torch.max(outputs.data, 1)\n",
    "        total += labels.size(0)\n",
    "        correct += (predicted == labels).sum().item()\n",
    "        all_predicted.extend(predicted.cpu().numpy())\n",
    "        all_labels.extend(labels.cpu().numpy())\n",
    "\n",
    "accuracy = 100 * correct / total\n",
    "\n",
    "print(f'Test Accuracy: {accuracy:.2f}%')\n",
    "\n",
    "# Calculate additional metrics and display the classification report\n",
    "print(\"Classification Report:\")\n",
    "class_names = [\"Benign\", \"Malicious\"]\n",
    "print(classification_report(all_labels, all_predicted, target_names=class_names))\n",
    "\n",
    "# Confusion Matrix\n",
    "print(\"Confusion Matrix:\")\n",
    "conf_matrix = confusion_matrix(all_labels, all_predicted)\n",
    "print(conf_matrix)\n",
    "\n",
    "# Calculate Sensitivity and Specificity\n",
    "sensitivity = conf_matrix[1, 1] / (conf_matrix[1, 1] + conf_matrix[1, 0])\n",
    "specificity = conf_matrix[0, 0] / (conf_matrix[0, 0] + conf_matrix[0, 1])\n",
    "\n",
    "print(f\"Sensitivity: {sensitivity:.4f}\")\n",
    "print(f\"Specificity: {specificity:.4f}\")"
   ]
  },
  {
   "cell_type": "markdown",
   "metadata": {
    "id": "yL2tay1Jz163"
   },
   "source": [
    "# Deep Learning DNN + RNN"
   ]
  },
  {
   "cell_type": "code",
   "execution_count": null,
   "metadata": {
    "execution": {
     "iopub.execute_input": "2023-10-28T23:47:39.431858Z",
     "iopub.status.busy": "2023-10-28T23:47:39.431127Z",
     "iopub.status.idle": "2023-10-28T23:47:39.447955Z",
     "shell.execute_reply": "2023-10-28T23:47:39.446917Z",
     "shell.execute_reply.started": "2023-10-28T23:47:39.431827Z"
    },
    "id": "uTAlvidcBP3-"
   },
   "outputs": [],
   "source": [
    "import torch\n",
    "import torch.nn as nn\n",
    "import torch.optim as optim\n",
    "import numpy as np\n",
    "\n",
    "# Assuming you have already loaded and preprocessed the CIC-MalMem-2022 dataset\n",
    "# X_train: Training data (memory dumps)\n",
    "# y_train: Training labels (0 for benign, 1 for malicious)\n",
    "# X_test: Testing data\n",
    "# y_test: Testing labels\n",
    "\n",
    "# Split the data into training and testing sets\n",
    "X_train, X_test, y_train_encoded, y_test_encoded = train_test_split(X_tsne, y.values, test_size=0.2, random_state=42)\n",
    "\n",
    "# Convert the data to PyTorch tensors\n",
    "X_train_tensor = torch.from_numpy(X_train).float()\n",
    "y_train_tensor = torch.from_numpy(y_train_encoded).long()\n",
    "X_test_tensor = torch.from_numpy(X_test).float()\n",
    "y_test_tensor = torch.from_numpy(y_test_encoded).long()\n",
    "\n",
    "# Print the shapes of the tensors\n",
    "print(\"X_train_tensor shape:\", X_train_tensor.shape)\n",
    "print(\"y_train_tensor shape:\", y_train_tensor.shape)\n",
    "print(\"X_test_tensor shape:\", X_test_tensor.shape)\n",
    "print(\"y_test_tensor shape:\", y_test_tensor.shape)\n"
   ]
  },
  {
   "cell_type": "markdown",
   "metadata": {
    "id": "3w4d3R0QIL0K"
   },
   "source": [
    "## Define the deep neural network for malware detection"
   ]
  },
  {
   "cell_type": "code",
   "execution_count": null,
   "metadata": {
    "execution": {
     "iopub.execute_input": "2023-10-28T23:47:39.450059Z",
     "iopub.status.busy": "2023-10-28T23:47:39.449418Z",
     "iopub.status.idle": "2023-10-28T23:47:39.458091Z",
     "shell.execute_reply": "2023-10-28T23:47:39.457131Z",
     "shell.execute_reply.started": "2023-10-28T23:47:39.450022Z"
    },
    "id": "F9702f-SBXDG"
   },
   "outputs": [],
   "source": [
    "# Define the deep neural network for malware detection\n",
    "class MalwareDetector(nn.Module):\n",
    "    def __init__(self, input_size, hidden_size, output_size):\n",
    "        super(MalwareDetector, self).__init__()\n",
    "        self.fc1 = nn.Linear(input_size, hidden_size)\n",
    "        self.fc2 = nn.Linear(hidden_size, hidden_size)\n",
    "        self.rnn = nn.RNN(hidden_size, hidden_size, batch_first=True)\n",
    "        self.fc3 = nn.Linear(hidden_size, output_size)\n",
    "\n",
    "    def forward(self, x):\n",
    "        x = x.unsqueeze(1)  # Add a time step dimension\n",
    "        out = torch.relu(self.fc1(x))\n",
    "        out = torch.relu(self.fc2(out))\n",
    "        out, _ = self.rnn(out)\n",
    "        out = self.fc3(out[:, -1, :])  # Get the last output of the RNN\n",
    "        return out"
   ]
  },
  {
   "cell_type": "markdown",
   "metadata": {
    "id": "-hOi9Gh1KHAv"
   },
   "source": [
    "## Initialize the model"
   ]
  },
  {
   "cell_type": "code",
   "execution_count": null,
   "metadata": {
    "execution": {
     "iopub.execute_input": "2023-10-31T23:00:14.697086Z",
     "iopub.status.busy": "2023-10-31T23:00:14.695534Z",
     "iopub.status.idle": "2023-10-31T23:00:15.294897Z",
     "shell.execute_reply": "2023-10-31T23:00:15.292694Z",
     "shell.execute_reply.started": "2023-10-31T23:00:14.69702Z"
    },
    "id": "Y0IrOBs5KE0p"
   },
   "outputs": [],
   "source": [
    "input_size = len(X_train[0])\n",
    "hidden_size = 128\n",
    "output_size = 2  # 2 classes: benign and malicious\n",
    "model = MalwareDetector(input_size, hidden_size, output_size)\n",
    "\n",
    "# Define loss function and optimizer\n",
    "criterion = nn.CrossEntropyLoss()\n",
    "optimizer = optim.Adam(model.parameters(), lr=0.001)"
   ]
  },
  {
   "cell_type": "markdown",
   "metadata": {
    "id": "sdsoNdVcKWy1"
   },
   "source": [
    "## Create a PyTorch DataLoader for training and testing"
   ]
  },
  {
   "cell_type": "code",
   "execution_count": null,
   "metadata": {
    "execution": {
     "iopub.execute_input": "2023-10-28T23:47:39.473334Z",
     "iopub.status.busy": "2023-10-28T23:47:39.473011Z",
     "iopub.status.idle": "2023-10-28T23:47:39.480906Z",
     "shell.execute_reply": "2023-10-28T23:47:39.479679Z",
     "shell.execute_reply.started": "2023-10-28T23:47:39.473308Z"
    },
    "id": "ZJoeVq5cKTyZ"
   },
   "outputs": [],
   "source": [
    "train_dataset = torch.utils.data.TensorDataset(X_train_tensor, y_train_tensor)\n",
    "train_loader = torch.utils.data.DataLoader(train_dataset, batch_size=32, shuffle=True)\n",
    "test_dataset = torch.utils.data.TensorDataset(X_test_tensor, y_test_tensor)\n",
    "test_loader = torch.utils.data.DataLoader(test_dataset, batch_size=32, shuffle=False)"
   ]
  },
  {
   "cell_type": "markdown",
   "metadata": {
    "id": "YNGT1GQaKkyf"
   },
   "source": [
    "## Training loop"
   ]
  },
  {
   "cell_type": "code",
   "execution_count": null,
   "metadata": {
    "execution": {
     "iopub.execute_input": "2023-10-28T23:47:39.482716Z",
     "iopub.status.busy": "2023-10-28T23:47:39.48238Z",
     "iopub.status.idle": "2023-10-28T23:48:19.111654Z",
     "shell.execute_reply": "2023-10-28T23:48:19.110475Z",
     "shell.execute_reply.started": "2023-10-28T23:47:39.482681Z"
    },
    "id": "tDjHEdBMKfBg"
   },
   "outputs": [],
   "source": [
    "import numpy as np\n",
    "import torch\n",
    "import torch.nn as nn\n",
    "from sklearn.metrics import roc_auc_score\n",
    "\n",
    "# Initialize variables to store metrics\n",
    "train_losses = []\n",
    "train_accuracies = []\n",
    "train_auc_scores = []\n",
    "test_losses = []\n",
    "test_accuracies = []\n",
    "test_auc_scores = []\n",
    "\n",
    "train_loss_sum = 0.0\n",
    "num_correct_train = 0\n",
    "num_samples_train = 0\n",
    "y_true_train = []\n",
    "y_pred_train = []\n",
    "\n",
    "model_metrics = {}\n",
    "\n",
    "model_metrics[\"DNN MalwareDetector\"] = {}\n",
    "\n",
    "# Define the number of epochs\n",
    "epochs = 10\n",
    "\n",
    "# Loop through epochs\n",
    "for epoch in range(epochs):\n",
    "    model.train()\n",
    "\n",
    "    for inputs, labels in train_loader:\n",
    "        optimizer.zero_grad()\n",
    "        outputs = model(inputs)\n",
    "        loss = criterion(outputs, labels)\n",
    "        loss.backward()\n",
    "        optimizer.step()\n",
    "\n",
    "        # Calculate training loss\n",
    "        train_loss_sum += loss.item() * inputs.size(0)\n",
    "\n",
    "        # Calculate number of correct predictions and total samples in the current batch\n",
    "        _, predicted_train = torch.max(outputs.data, 1)\n",
    "        num_correct_train += (predicted_train == labels).sum().item()\n",
    "        num_samples_train += labels.size(0)\n",
    "\n",
    "        # Store true labels and predicted labels for AUC calculation\n",
    "        y_true_train.extend(labels.cpu().numpy())\n",
    "        y_pred_train.extend(predicted_train.cpu().numpy())\n",
    "\n",
    "    # Calculate training accuracy\n",
    "    train_accuracy = 100 * num_correct_train / num_samples_train\n",
    "    train_losses.append(train_loss_sum / num_samples_train)\n",
    "    train_accuracies.append(train_accuracy)\n",
    "\n",
    "    # Calculate AUC score for training data\n",
    "    train_auc = roc_auc_score(y_true_train, y_pred_train, average='weighted')\n",
    "    train_auc_scores.append(train_auc)\n",
    "\n",
    "    # Evaluate the model on the test set\n",
    "    model.eval()\n",
    "    test_loss_sum = 0.0\n",
    "    num_correct_test = 0\n",
    "    num_samples_test = 0\n",
    "    y_true_test = []\n",
    "    y_pred_test = []\n",
    "\n",
    "    with torch.no_grad():\n",
    "        for inputs, labels in test_loader:\n",
    "            outputs = model(inputs)\n",
    "            loss = criterion(outputs, labels)\n",
    "            test_loss_sum += loss.item() * inputs.size(0)\n",
    "\n",
    "            # Calculate number of correct predictions and total samples in the current batch\n",
    "            _, predicted_test = torch.max(outputs.data, 1)\n",
    "            num_correct_test += (predicted_test == labels).sum().item()\n",
    "            num_samples_test += labels.size(0)\n",
    "\n",
    "            # Store true labels and predicted labels for AUC calculation\n",
    "            y_true_test.extend(labels.cpu().numpy())\n",
    "            y_pred_test.extend(predicted_test.cpu().numpy())\n",
    "\n",
    "    # Calculate test accuracy\n",
    "    test_accuracy = 100 * num_correct_test / num_samples_test\n",
    "    test_losses.append(test_loss_sum / num_samples_test)\n",
    "    test_accuracies.append(test_accuracy)\n",
    "\n",
    "    # Calculate AUC score for test data\n",
    "    test_auc = roc_auc_score(y_true_test, y_pred_test, average='weighted')\n",
    "    test_auc_scores.append(test_auc)\n",
    "\n",
    "\n",
    "\n",
    "    # Print epoch-wise metrics\n",
    "    print(f\"Epoch [{epoch+1}/{epochs}] - \"\n",
    "          f\"Train Loss: {train_losses[-1]:.4f}, \"\n",
    "          f\"Train Accuracy: {train_accuracy:.2f}%, \"\n",
    "          f\"Train AUC: {train_auc:.4f}, \"\n",
    "          f\"Test Loss: {test_losses[-1]:.4f}, \"\n",
    "          f\"Test Accuracy: {test_accuracy:.2f}%, \"\n",
    "          f\"Test AUC: {test_auc:.4f}\")\n",
    "\n",
    "print(\"Training finished.\")\n"
   ]
  },
  {
   "cell_type": "code",
   "execution_count": null,
   "metadata": {
    "execution": {
     "iopub.execute_input": "2023-10-28T23:48:19.113582Z",
     "iopub.status.busy": "2023-10-28T23:48:19.113162Z",
     "iopub.status.idle": "2023-10-28T23:48:19.901684Z",
     "shell.execute_reply": "2023-10-28T23:48:19.900554Z",
     "shell.execute_reply.started": "2023-10-28T23:48:19.113543Z"
    },
    "id": "Z7iJJYwoeD5x"
   },
   "outputs": [],
   "source": [
    "import matplotlib.pyplot as plt\n",
    "\n",
    "# Create an array for the epoch numbers (x-axis)\n",
    "epochs_list = range(1, epochs + 1)\n",
    "\n",
    "# Plot Training and Testing Losses\n",
    "plt.figure(figsize=(12, 4))\n",
    "plt.subplot(131)\n",
    "plt.plot(epochs_list, train_losses, label='Train Loss', marker='o')\n",
    "plt.plot(epochs_list, test_losses, label='Test Loss', marker='x')\n",
    "plt.xlabel('Epochs')\n",
    "plt.ylabel('Loss')\n",
    "plt.title('Training and Testing Losses')\n",
    "plt.legend()\n",
    "\n",
    "# Plot Training and Testing Accuracies\n",
    "plt.subplot(132)\n",
    "plt.plot(epochs_list, train_accuracies, label='Train Accuracy', marker='o')\n",
    "plt.plot(epochs_list, test_accuracies, label='Test Accuracy', marker='x')\n",
    "plt.xlabel('Epochs')\n",
    "plt.ylabel('Accuracy (%)')\n",
    "plt.title('Training and Testing Accuracies')\n",
    "plt.legend()\n",
    "\n",
    "# Plot Training and Testing AUC Scores\n",
    "plt.subplot(133)\n",
    "plt.plot(epochs_list, train_auc_scores, label='Train AUC', marker='o')\n",
    "plt.plot(epochs_list, test_auc_scores, label='Test AUC', marker='x')\n",
    "plt.xlabel('Epochs')\n",
    "plt.ylabel('AUC Score')\n",
    "plt.title('Training and Testing AUC Scores')\n",
    "plt.legend()\n",
    "\n",
    "# Display all plots\n",
    "plt.tight_layout()\n",
    "plt.show()\n"
   ]
  },
  {
   "cell_type": "markdown",
   "metadata": {
    "id": "rL2qn7OpKnZM"
   },
   "source": [
    "## Evaluation"
   ]
  },
  {
   "cell_type": "code",
   "execution_count": null,
   "metadata": {
    "execution": {
     "iopub.execute_input": "2023-10-28T23:48:19.903499Z",
     "iopub.status.busy": "2023-10-28T23:48:19.90306Z",
     "iopub.status.idle": "2023-10-28T23:48:20.245252Z",
     "shell.execute_reply": "2023-10-28T23:48:20.24425Z",
     "shell.execute_reply.started": "2023-10-28T23:48:19.90347Z"
    },
    "id": "ygj7P42pKh_4"
   },
   "outputs": [],
   "source": [
    "from sklearn.metrics import accuracy_score, precision_score, recall_score, f1_score, confusion_matrix\n",
    "from sklearn.metrics import matthews_corrcoef, auc, precision_recall_curve, classification_report\n",
    "\n",
    "model.eval()\n",
    "correct = 0\n",
    "total = 0\n",
    "y_true = []\n",
    "y_pred = []\n",
    "\n",
    "with torch.no_grad():\n",
    "    for inputs, labels in test_loader:\n",
    "        outputs = model(inputs)\n",
    "        _, predicted = torch.max(outputs.data, 1)\n",
    "        total += labels.size(0)\n",
    "        correct += (predicted == labels).sum().item()\n",
    "\n",
    "        # Store true labels and predicted labels for evaluation\n",
    "        y_true.extend(labels.cpu().numpy())\n",
    "        y_pred.extend(predicted.cpu().numpy())\n",
    "\n",
    "# Calculate accuracy\n",
    "accuracy = 100 * correct / total\n",
    "\n",
    "# Calculate additional evaluation metrics\n",
    "precision = precision_score(y_true, y_pred, average=None)\n",
    "recall = recall_score(y_true, y_pred, average=None)\n",
    "f1 = f1_score(y_true, y_pred, average=None)\n",
    "conf_matrix = confusion_matrix(y_true, y_pred)\n",
    "\n",
    "model_metrics[\"DNN MalwareDetector\"][\"Accuracy\"] = accuracy\n",
    "model_metrics[\"DNN MalwareDetector\"][\"Precision\"] = precision[0]\n",
    "model_metrics[\"DNN MalwareDetector\"][\"Recall\"] = recall[0]\n",
    "model_metrics[\"DNN MalwareDetector\"][\"F1 Score\"] = f1[0]\n",
    "model_metrics[\"DNN MalwareDetector\"][\"Confusion Matrix\"] = conf_matrix\n",
    "\n",
    "# Calculate Sensitivity and Specificity\n",
    "sensitivity = recall[1]\n",
    "specificity = recall[0]\n",
    "\n",
    "# Calculate MCC\n",
    "mcc = matthews_corrcoef(y_true, y_pred)\n",
    "\n",
    "# Calculate AUC-PR\n",
    "precision, recall, _ = precision_recall_curve(y_true, y_pred)\n",
    "auc_pr = auc(recall, precision)\n",
    "\n",
    "# Print results\n",
    "print(f'Test Accuracy: {accuracy:.2f}%')\n",
    "print(\"Classification Report:\")\n",
    "print(classification_report(y_true, y_pred, target_names=[\"Benign\", \"Malicious\"]))\n",
    "print('Confusion Matrix:')\n",
    "print(conf_matrix)\n",
    "print(f'Sensitivity: {sensitivity:.4f}')\n",
    "print(f'Specificity: {specificity:.4f}')"
   ]
  },
  {
   "cell_type": "code",
   "execution_count": null,
   "metadata": {
    "execution": {
     "iopub.execute_input": "2023-10-28T23:48:20.247049Z",
     "iopub.status.busy": "2023-10-28T23:48:20.246608Z",
     "iopub.status.idle": "2023-10-28T23:48:21.060904Z",
     "shell.execute_reply": "2023-10-28T23:48:21.059746Z",
     "shell.execute_reply.started": "2023-10-28T23:48:20.247011Z"
    },
    "id": "QyEXVCE_eD5y"
   },
   "outputs": [],
   "source": [
    "import matplotlib.pyplot as plt\n",
    "import seaborn as sns\n",
    "\n",
    "\n",
    "# Visualize the Confusion Matrix\n",
    "plt.figure(figsize=(8, 6))\n",
    "sns.heatmap(conf_matrix, annot=True, fmt='d', cmap='Blues', xticklabels=[\"Benign\", \"Malicious\"], yticklabels=[\"Benign\", \"Malicious\"])\n",
    "plt.xlabel('Predicted Labels')\n",
    "plt.ylabel('True Labels')\n",
    "plt.title('Confusion Matrix')\n",
    "plt.show()\n",
    "\n",
    "# Visualize Precision-Recall Curve\n",
    "plt.figure(figsize=(8, 6))\n",
    "plt.plot(recall, precision, marker='.')\n",
    "plt.xlabel('Recall')\n",
    "plt.ylabel('Precision')\n",
    "plt.title('Precision-Recall Curve')\n",
    "plt.grid(True)\n",
    "plt.show()\n"
   ]
  },
  {
   "cell_type": "markdown",
   "metadata": {
    "id": "a6G7AbV9eD5y"
   },
   "source": [
    "# Other Models For comparison"
   ]
  },
  {
   "cell_type": "markdown",
   "metadata": {
    "id": "t5wB-9e4eD5y"
   },
   "source": [
    "## Logistic Regression"
   ]
  },
  {
   "cell_type": "code",
   "execution_count": null,
   "metadata": {
    "execution": {
     "iopub.execute_input": "2023-10-28T23:48:21.06238Z",
     "iopub.status.busy": "2023-10-28T23:48:21.062073Z",
     "iopub.status.idle": "2023-10-28T23:48:21.068014Z",
     "shell.execute_reply": "2023-10-28T23:48:21.06717Z",
     "shell.execute_reply.started": "2023-10-28T23:48:21.062355Z"
    },
    "id": "8kfeBfR0eD5y"
   },
   "outputs": [],
   "source": [
    "import torch.nn.functional as F\n",
    "\n",
    "class LogisticRegression(nn.Module):\n",
    "    def __init__(self, input_size, output_size):\n",
    "        super(LogisticRegression, self).__init__()\n",
    "        self.fc1 = nn.Linear(input_size, output_size)\n",
    "\n",
    "    def forward(self, x):\n",
    "        x = x.view(x.size(0), -1)  # Flatten the input\n",
    "        out = self.fc1(x)\n",
    "        return F.softmax(out, dim=1)"
   ]
  },
  {
   "cell_type": "markdown",
   "metadata": {
    "id": "Ti1KQ0hIeD5y"
   },
   "source": [
    "## Support Vector Machine"
   ]
  },
  {
   "cell_type": "code",
   "execution_count": null,
   "metadata": {
    "execution": {
     "iopub.execute_input": "2023-10-28T23:48:21.069846Z",
     "iopub.status.busy": "2023-10-28T23:48:21.06912Z",
     "iopub.status.idle": "2023-10-28T23:48:21.07987Z",
     "shell.execute_reply": "2023-10-28T23:48:21.078746Z",
     "shell.execute_reply.started": "2023-10-28T23:48:21.069817Z"
    },
    "id": "Y0B0r_roeD5y"
   },
   "outputs": [],
   "source": [
    "from sklearn.svm import SVC\n",
    "\n",
    "# Create an SVM classifier\n",
    "svm_classifier = SVC(kernel='linear', C=0.01)"
   ]
  },
  {
   "cell_type": "markdown",
   "metadata": {
    "id": "1II0meGEeD5y"
   },
   "source": [
    "## Random Forest Classifier"
   ]
  },
  {
   "cell_type": "code",
   "execution_count": null,
   "metadata": {
    "execution": {
     "iopub.execute_input": "2023-10-28T23:48:21.081376Z",
     "iopub.status.busy": "2023-10-28T23:48:21.080901Z",
     "iopub.status.idle": "2023-10-28T23:48:21.209864Z",
     "shell.execute_reply": "2023-10-28T23:48:21.208873Z",
     "shell.execute_reply.started": "2023-10-28T23:48:21.081344Z"
    },
    "id": "cF6dwRzXeD5z"
   },
   "outputs": [],
   "source": [
    "from sklearn.ensemble import RandomForestClassifier\n",
    "\n",
    "# Create a Random Forest classifier\n",
    "rf_classifier = RandomForestClassifier(\n",
    "    n_estimators=50,  # Reduce the number of trees\n",
    "    max_depth=5,      # Limit the depth of trees\n",
    "    min_samples_split=2,  # Increase the minimum samples required to split\n",
    "    min_samples_leaf=1,   # Increase the minimum samples required for a leaf\n",
    "    random_state=42\n",
    ")"
   ]
  },
  {
   "cell_type": "code",
   "execution_count": null,
   "metadata": {
    "execution": {
     "iopub.execute_input": "2023-10-28T23:48:21.212177Z",
     "iopub.status.busy": "2023-10-28T23:48:21.211152Z",
     "iopub.status.idle": "2023-10-28T23:48:21.547516Z",
     "shell.execute_reply": "2023-10-28T23:48:21.546446Z",
     "shell.execute_reply.started": "2023-10-28T23:48:21.212142Z"
    },
    "id": "kxOG_WUgeD5z"
   },
   "outputs": [],
   "source": [
    "# Sort and visualize feature importances\n",
    "N = 14  # Number of top features to select\n",
    "sorted_indices = np.argsort(feature_importances)[::-1]\n",
    "selected_features = X.columns[sorted_indices[:N]]\n",
    "\n",
    "plt.figure(figsize=(10, 6))\n",
    "plt.bar(selected_features, feature_importances[sorted_indices[:N]])\n",
    "plt.title('Top Feature Importance')\n",
    "plt.xlabel('Features')\n",
    "plt.ylabel('Importance')\n",
    "plt.xticks(rotation=45)\n",
    "plt.show()## MLP"
   ]
  },
  {
   "cell_type": "code",
   "execution_count": null,
   "metadata": {
    "execution": {
     "iopub.execute_input": "2023-10-28T23:48:21.549749Z",
     "iopub.status.busy": "2023-10-28T23:48:21.548651Z",
     "iopub.status.idle": "2023-10-28T23:48:21.555817Z",
     "shell.execute_reply": "2023-10-28T23:48:21.55493Z",
     "shell.execute_reply.started": "2023-10-28T23:48:21.549715Z"
    },
    "id": "EbLQA5bneD5z"
   },
   "outputs": [],
   "source": [
    "import torch.nn as nn\n",
    "\n",
    "class NeuralNetworkClassifier(nn.Module):\n",
    "    def __init__(self, input_size, hidden_size, output_size):\n",
    "        super(NeuralNetworkClassifier, self).__init__()\n",
    "        self.fc1 = nn.Linear(input_size, hidden_size)\n",
    "        self.fc2 = nn.Linear(hidden_size, output_size)\n",
    "\n",
    "    def forward(self, x):\n",
    "        x = x.view(x.size(0), -1)  # Flatten the input\n",
    "        out = torch.relu(self.fc1(x))\n",
    "        out = self.fc2(out)\n",
    "        return torch.softmax(out, dim=1)\n"
   ]
  },
  {
   "cell_type": "code",
   "execution_count": null,
   "metadata": {
    "execution": {
     "iopub.execute_input": "2023-10-28T23:48:21.557999Z",
     "iopub.status.busy": "2023-10-28T23:48:21.557079Z",
     "iopub.status.idle": "2023-10-28T23:48:21.56888Z",
     "shell.execute_reply": "2023-10-28T23:48:21.56816Z",
     "shell.execute_reply.started": "2023-10-28T23:48:21.557959Z"
    },
    "id": "UuOTK7LUeD5z"
   },
   "outputs": [],
   "source": [
    "from sklearn.ensemble import GradientBoostingClassifier\n",
    "\n",
    "# Create a Gradient Boosting classifier with reduced estimators\n",
    "gb_classifier = GradientBoostingClassifier(n_estimators=20, random_state=21)"
   ]
  },
  {
   "cell_type": "code",
   "execution_count": null,
   "metadata": {
    "execution": {
     "iopub.execute_input": "2023-10-28T23:48:21.57098Z",
     "iopub.status.busy": "2023-10-28T23:48:21.570641Z",
     "iopub.status.idle": "2023-10-28T23:48:45.559502Z",
     "shell.execute_reply": "2023-10-28T23:48:45.558499Z",
     "shell.execute_reply.started": "2023-10-28T23:48:21.570945Z"
    },
    "id": "G_RpIWgxeD5z"
   },
   "outputs": [],
   "source": [
    "import torch\n",
    "import torch.nn as nn\n",
    "import torch.optim as optim\n",
    "from sklearn.metrics import accuracy_score, precision_score, recall_score, f1_score, confusion_matrix\n",
    "\n",
    "logistic_regression_model = LogisticRegression(input_size, output_size)\n",
    "\n",
    "svm_classifier = SVC()\n",
    "svm_classifier.fit(X_train, y_train_encoded)\n",
    "\n",
    "rf_classifier = RandomForestClassifier(n_estimators=10, random_state=42)\n",
    "rf_classifier.fit(X_train, y_train_encoded)\n",
    "\n",
    "gb_classifier = GradientBoostingClassifier()\n",
    "gb_classifier.fit(X_train, y_train_encoded)\n",
    "\n",
    "# Train and evaluate models\n",
    "models = {\n",
    "    \"Logistic Regression\": logistic_regression_model,\n",
    "    \"SVM\": svm_classifier,\n",
    "    \"Random Forest\": rf_classifier,\n",
    "    \"Gradient Boosting\": gb_classifier,\n",
    "}\n",
    "\n",
    "\n",
    "\n",
    "for model_name, model in models.items():\n",
    "    model_metrics[model_name] = {}\n",
    "\n",
    "    if model_name == \"Logistic Regression\":\n",
    "        optimizer = optim.Adam(model.parameters(), lr=0.001)\n",
    "        criterion = nn.CrossEntropyLoss()\n",
    "        epochs = 10\n",
    "\n",
    "        for epoch in range(epochs):\n",
    "            optimizer.zero_grad()\n",
    "            outputs = model(X_train_tensor)\n",
    "            loss = criterion(outputs, y_train_tensor)\n",
    "            loss.backward()\n",
    "            optimizer.step()\n",
    "\n",
    "        model.eval()\n",
    "        with torch.no_grad():\n",
    "            outputs = model(X_test_tensor)\n",
    "            _, predicted = torch.max(outputs.data, 1)\n",
    "\n",
    "            accuracy = accuracy_score(y_test_encoded, predicted)\n",
    "            precision = precision_score(y_test_encoded, predicted)\n",
    "            recall = recall_score(y_test_encoded, predicted)\n",
    "            f1 = f1_score(y_test_encoded, predicted)\n",
    "            conf_matrix = confusion_matrix(y_test_encoded, predicted)\n",
    "\n",
    "        model_metrics[model_name][\"Accuracy\"] = accuracy\n",
    "        model_metrics[model_name][\"Precision\"] = precision\n",
    "        model_metrics[model_name][\"Recall\"] = recall\n",
    "        model_metrics[model_name][\"F1 Score\"] = f1\n",
    "        model_metrics[model_name][\"Confusion Matrix\"] = conf_matrix\n",
    "    else:\n",
    "        model.fit(X_train, y_train_encoded)\n",
    "        y_pred = model.predict(X_test)\n",
    "\n",
    "        accuracy = accuracy_score(y_test_encoded, y_pred)\n",
    "        precision = precision_score(y_test_encoded, y_pred)\n",
    "        recall = recall_score(y_test_encoded, y_pred)\n",
    "        f1 = f1_score(y_test_encoded, y_pred)\n",
    "        conf_matrix = confusion_matrix(y_test_encoded, y_pred)\n",
    "\n",
    "        model_metrics[model_name][\"Accuracy\"] = accuracy\n",
    "        model_metrics[model_name][\"Precision\"] = precision\n",
    "        model_metrics[model_name][\"Recall\"] = recall\n",
    "        model_metrics[model_name][\"F1 Score\"] = f1\n",
    "        model_metrics[model_name][\"Confusion Matrix\"] = conf_matrix\n"
   ]
  },
  {
   "cell_type": "code",
   "execution_count": null,
   "metadata": {
    "execution": {
     "iopub.execute_input": "2023-10-28T23:48:45.561269Z",
     "iopub.status.busy": "2023-10-28T23:48:45.560832Z",
     "iopub.status.idle": "2023-10-28T23:48:45.568Z",
     "shell.execute_reply": "2023-10-28T23:48:45.566867Z",
     "shell.execute_reply.started": "2023-10-28T23:48:45.56124Z"
    },
    "id": "UOOtqzoseD5z"
   },
   "outputs": [],
   "source": [
    "# Print model metrics\n",
    "for model_name, metrics in model_metrics.items():\n",
    "    print(f\"Model: {model_name}\")\n",
    "    print(f\"Accuracy: {metrics['Accuracy']:.2f}\")\n",
    "    print(f\"Precision: {metrics['Precision']:.2f}\")\n",
    "    print(f\"Recall: {metrics['Recall']:.2f}\")\n",
    "    print(f\"F1 Score: {metrics['F1 Score']:.2f}\")\n",
    "    print(f\"Confusion Matrix:\\n{metrics['Confusion Matrix']}\")"
   ]
  },
  {
   "cell_type": "code",
   "execution_count": null,
   "metadata": {
    "execution": {
     "iopub.execute_input": "2023-10-28T23:48:45.569801Z",
     "iopub.status.busy": "2023-10-28T23:48:45.569425Z",
     "iopub.status.idle": "2023-10-28T23:48:46.482196Z",
     "shell.execute_reply": "2023-10-28T23:48:46.481064Z",
     "shell.execute_reply.started": "2023-10-28T23:48:45.569764Z"
    },
    "id": "qucWLzmMeD5z"
   },
   "outputs": [],
   "source": [
    "import matplotlib.pyplot as plt\n",
    "import numpy as np\n",
    "\n",
    "# Extract model names and metric values\n",
    "model_names = list(model_metrics.keys())\n",
    "accuracies = [metrics['Accuracy'] for metrics in model_metrics.values()]\n",
    "precisions = [metrics['Precision'] for metrics in model_metrics.values()]\n",
    "recalls = [metrics['Recall'] for metrics in model_metrics.values()]\n",
    "f1_scores = [metrics['F1 Score'] for metrics in model_metrics.values()]\n",
    "\n",
    "# Create a bar plot for accuracy\n",
    "plt.figure(figsize=(10, 5))\n",
    "plt.bar(model_names, accuracies, color='skyblue')\n",
    "plt.xlabel('Model')\n",
    "plt.ylabel('Accuracy')\n",
    "plt.title('Model Accuracy Comparison')\n",
    "plt.xticks(rotation=45)\n",
    "plt.ylim(0, 1)\n",
    "plt.tight_layout()\n",
    "plt.show()\n",
    "\n",
    "# Create a bar plot for precision\n",
    "plt.figure(figsize=(10, 5))\n",
    "plt.bar(model_names, precisions, color='lightcoral')\n",
    "plt.xlabel('Model')\n",
    "plt.ylabel('Precision')\n",
    "plt.title('Model Precision Comparison')\n",
    "plt.xticks(rotation=45)\n",
    "plt.ylim(0, 1)\n",
    "plt.tight_layout()\n",
    "plt.show()\n",
    "\n",
    "# Create a bar plot for recall\n",
    "plt.figure(figsize=(10, 5))\n",
    "plt.bar(model_names, recalls, color='lightgreen')\n",
    "plt.xlabel('Model')\n",
    "plt.ylabel('Recall')\n",
    "plt.title('Model Recall Comparison')\n",
    "plt.xticks(rotation=45)\n",
    "plt.ylim(0, 1)\n",
    "plt.tight_layout()\n",
    "plt.show()\n",
    "\n",
    "# Create a bar plot for F1-score\n",
    "plt.figure(figsize=(10, 5))\n",
    "plt.bar(model_names, f1_scores, color='lightsalmon')\n",
    "plt.xlabel('Model')\n",
    "plt.ylabel('F1 Score')\n",
    "plt.title('Model F1 Score Comparison')\n",
    "plt.xticks(rotation=45)\n",
    "plt.ylim(0, 1)\n",
    "plt.tight_layout()\n",
    "plt.show()"
   ]
  },
  {
   "cell_type": "code",
   "execution_count": null,
   "metadata": {
    "id": "SMaQi6GieD50"
   },
   "outputs": [],
   "source": []
  }
 ],
 "metadata": {
  "colab": {
   "name": "Deep Learning & obfuscated-malware-memory-2022-cic",
   "provenance": []
  },
  "kaggle": {
   "accelerator": "none",
   "dataSources": [
    {
     "datasetId": 2329998,
     "sourceId": 3924163,
     "sourceType": "datasetVersion"
    }
   ],
   "dockerImageVersionId": 30527,
   "isGpuEnabled": false,
   "isInternetEnabled": true,
   "language": "python",
   "sourceType": "notebook"
  },
  "kernelspec": {
   "display_name": "Python 3 (ipykernel)",
   "language": "python",
   "name": "python3"
  },
  "language_info": {
   "codemirror_mode": {
    "name": "ipython",
    "version": 3
   },
   "file_extension": ".py",
   "mimetype": "text/x-python",
   "name": "python",
   "nbconvert_exporter": "python",
   "pygments_lexer": "ipython3",
   "version": "3.12.2"
  }
 },
 "nbformat": 4,
 "nbformat_minor": 4
}
